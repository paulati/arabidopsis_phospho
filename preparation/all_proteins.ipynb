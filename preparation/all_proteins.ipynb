{
 "cells": [
  {
   "cell_type": "markdown",
   "metadata": {},
   "source": [
    "All genes from Araport11"
   ]
  },
  {
   "cell_type": "markdown",
   "metadata": {},
   "source": [
    "## Setup"
   ]
  },
  {
   "cell_type": "code",
   "execution_count": null,
   "metadata": {},
   "outputs": [],
   "source": [
    "from sys import path\n",
    "base_path = \"/media/paulati/Nuevo vol/paula/ingebi/2020/agustina_mazzella/github/arabidopsis_phospho\"\n",
    "path.append(base_path)    \n",
    "\n",
    "from preparation import util\n"
   ]
  },
  {
   "cell_type": "markdown",
   "metadata": {},
   "source": [
    "## Proteins ids"
   ]
  },
  {
   "cell_type": "code",
   "execution_count": null,
   "metadata": {},
   "outputs": [],
   "source": [
    "from Bio import SeqIO\n",
    "from os import path, remove\n",
    "import numpy as np"
   ]
  },
  {
   "cell_type": "code",
   "execution_count": null,
   "metadata": {},
   "outputs": [],
   "source": [
    "\n",
    "data_path_gz = path.join(base_path, \"data/Araport11_genes.201606.pep.fasta.gz\")\n",
    "\n",
    "data_path = path.join(base_path, \"data/Araport11_genes.201606.pep.fasta\")\n",
    "\n",
    "if (not path.exists(data_path)):\n",
    "    util.extractgz(data_path_gz, data_path)\n",
    "\n",
    "data = SeqIO.parse(data_path, \"fasta\")\n"
   ]
  },
  {
   "cell_type": "code",
   "execution_count": null,
   "metadata": {},
   "outputs": [],
   "source": [
    "seq_record_ids = []\n",
    "\n",
    "for seq_record in data:\n",
    "    #print(seq_record.id)\n",
    "    seq_record_ids.append(seq_record.id)\n",
    "    #print(repr(seq_record.seq))\n",
    "    #print(len(seq_record))\n",
    "    \n",
    "print(len(seq_record_ids))\n",
    "\n",
    "unique_seq_record_ids = np.unique(seq_record_ids)\n",
    "print(len(unique_seq_record_ids))"
   ]
  },
  {
   "cell_type": "code",
   "execution_count": null,
   "metadata": {},
   "outputs": [],
   "source": [
    "out_file_path = path.join(base_path, \"data/Araport11_genes_all.txt\")\n",
    "\n",
    "file = open(out_file_path, 'w')\n",
    "for seq_record_id in seq_record_ids:\n",
    "    file.write(seq_record_id + '\\n')  # python will convert \\n to os.linesep\n",
    "file.close()  # you can"
   ]
  },
  {
   "cell_type": "markdown",
   "metadata": {},
   "source": [
    "Delete uncompressed file:"
   ]
  },
  {
   "cell_type": "code",
   "execution_count": null,
   "metadata": {},
   "outputs": [],
   "source": [
    "if(path.exists(data_path)):\n",
    "    if(path.exists(data_path_gz)):\n",
    "        to_delete = True\n",
    "    else:\n",
    "        util.compressgz(data_path, data_path_gz)\n",
    "        to_delete = True\n",
    "else:\n",
    "    to_delete = False\n",
    "    \n",
    "if (to_delete):\n",
    "    remove(data_path)\n",
    "    \n",
    "        "
   ]
  },
  {
   "cell_type": "code",
   "execution_count": null,
   "metadata": {},
   "outputs": [],
   "source": []
  },
  {
   "cell_type": "code",
   "execution_count": null,
   "metadata": {},
   "outputs": [],
   "source": []
  }
 ],
 "metadata": {
  "kernelspec": {
   "display_name": "Python 3",
   "language": "python",
   "name": "python3"
  },
  "language_info": {
   "codemirror_mode": {
    "name": "ipython",
    "version": 3
   },
   "file_extension": ".py",
   "mimetype": "text/x-python",
   "name": "python",
   "nbconvert_exporter": "python",
   "pygments_lexer": "ipython3",
   "version": "3.7.9"
  }
 },
 "nbformat": 4,
 "nbformat_minor": 4
}
