{
 "cells": [
  {
   "cell_type": "markdown",
   "metadata": {},
   "source": [
    "All experimental phosphorylation data available "
   ]
  },
  {
   "cell_type": "markdown",
   "metadata": {},
   "source": [
    "Paper Nature\n",
    "\n",
    "<img src='./img/nature_2020_cantidades_exp.png'></img>"
   ]
  },
  {
   "cell_type": "markdown",
   "metadata": {},
   "source": [
    "## Initial Setup"
   ]
  },
  {
   "cell_type": "code",
   "execution_count": null,
   "metadata": {},
   "outputs": [],
   "source": [
    "from sys import path\n",
    "base_path = \"/media/paulati/Nuevo vol/paula/ingebi/2020/agustina_mazzella/github/arabidopsis_phospho\"\n",
    "path.append(base_path)    \n",
    "\n",
    "from preparation import util"
   ]
  },
  {
   "cell_type": "markdown",
   "metadata": {},
   "source": [
    "## Imports"
   ]
  },
  {
   "cell_type": "code",
   "execution_count": null,
   "metadata": {},
   "outputs": [],
   "source": [
    "from os import path, remove\n",
    "import pandas as pd\n",
    "import numpy as np\n",
    "import re"
   ]
  },
  {
   "cell_type": "markdown",
   "metadata": {},
   "source": [
    "## Arabidopsis all ids"
   ]
  },
  {
   "cell_type": "code",
   "execution_count": null,
   "metadata": {},
   "outputs": [],
   "source": [
    "all_arabidopsisis_file_path = path.join(base_path, \"data/preproc/all_ids.txt\")\n",
    "all_arabidopsisis = pd.read_csv(all_arabidopsisis_file_path, header = None)\n",
    "print(all_arabidopsisis.shape)\n",
    "all_arabidopsisis_codes = all_arabidopsisis.iloc[:, 0].unique()\n",
    "len(all_arabidopsisis_codes)"
   ]
  },
  {
   "cell_type": "markdown",
   "metadata": {},
   "source": [
    "## Phosphat experimental"
   ]
  },
  {
   "cell_type": "code",
   "execution_count": null,
   "metadata": {},
   "outputs": [],
   "source": [
    "data_path_zip = path.join(base_path, \"data/raw/Phosphat_20200624.zip\")\n",
    "data_folder_path = path.join(base_path, \"data/raw\")\n",
    "data_path = path.join(data_folder_path, \"Phosphat_20200624.csv\")\n",
    "\n",
    "if (not path.exists(data_path)):\n",
    "    util.extractzip(data_path_zip, data_folder_path)"
   ]
  },
  {
   "cell_type": "markdown",
   "metadata": {},
   "source": [
    "### Fix data"
   ]
  },
  {
   "cell_type": "markdown",
   "metadata": {},
   "source": [
    "Problem: `FK_Species` is mixed with other columns."
   ]
  },
  {
   "cell_type": "code",
   "execution_count": null,
   "metadata": {},
   "outputs": [],
   "source": [
    "phosphat_experimental = pd.read_csv(data_path_zip, sep = ',', quotechar = \"\\\"\", low_memory=False)\n",
    "phosphat_experimental.FK_Species.unique()"
   ]
  },
  {
   "cell_type": "code",
   "execution_count": null,
   "metadata": {},
   "outputs": [],
   "source": [
    "f = open(data_path)\n",
    "line_number = 1\n",
    "error_line_number = []\n",
    "\n",
    "error_pattern = ',,,,,'\n",
    "\n",
    "for line in f:\n",
    "    if line.find(error_pattern) != -1:\n",
    "        error_line_number.append(line_number)\n",
    "    line_number = line_number + 1"
   ]
  },
  {
   "cell_type": "markdown",
   "metadata": {},
   "source": [
    "Detect problems in consecutive lines pairs:"
   ]
  },
  {
   "cell_type": "code",
   "execution_count": null,
   "metadata": {},
   "outputs": [],
   "source": [
    "elem_count = len(error_line_number)\n",
    "max_index = int(elem_count / 2)\n",
    "\n",
    "print(elem_count)\n",
    "print(max_index)\n",
    "\n",
    "sum([error_line_number[2*i]+1 == error_line_number[2*i+1] for i in range(0, max_index)])"
   ]
  },
  {
   "cell_type": "code",
   "execution_count": null,
   "metadata": {},
   "outputs": [],
   "source": [
    "f = open(data_path, 'r')\n",
    "\n",
    "raw_lines = f.readlines()\n",
    "\n",
    "error_line_index = [x-1 for x in error_line_number]\n",
    "\n",
    "original_valid_lines = [raw_lines[i] for i in range(0, len(raw_lines)) if i not in error_line_index]    \n",
    "\n",
    "phosphat_experimental_2020_valid_data_file_path = path.join(base_path, \"data/preproc/Phosphat_20200624_valid_lines.csv\")\n",
    "\n",
    "f_out = open(phosphat_experimental_2020_valid_data_file_path, 'w')\n",
    "f_out.writelines(original_valid_lines)        \n",
    "f_out.close()"
   ]
  },
  {
   "cell_type": "markdown",
   "metadata": {},
   "source": [
    "Read file `Phosphat_20200624_valid_lines` and verify that shape is 24 columns and (162857 - 4436) rows"
   ]
  },
  {
   "cell_type": "code",
   "execution_count": null,
   "metadata": {},
   "outputs": [],
   "source": [
    "tmp = pd.read_csv(phosphat_experimental_2020_valid_data_file_path, sep = ',', quotechar = \"\\\"\", low_memory=False)\n",
    "\n",
    "print(tmp.head(5))\n",
    "print(tmp.shape[0] ==  162857 - 4436)\n",
    "print(tmp.shape[1] == 24)"
   ]
  },
  {
   "cell_type": "markdown",
   "metadata": {},
   "source": [
    "Check problem is solved:"
   ]
  },
  {
   "cell_type": "code",
   "execution_count": null,
   "metadata": {},
   "outputs": [],
   "source": [
    "tmp.FK_Species.unique()"
   ]
  },
  {
   "cell_type": "markdown",
   "metadata": {},
   "source": [
    "### Extract phosphat experimental ids"
   ]
  },
  {
   "cell_type": "code",
   "execution_count": null,
   "metadata": {},
   "outputs": [],
   "source": [
    "phosphat_experimental_2020_valid_data_file_path = path.join(base_path, \"data/preproc/Phosphat_20200624_valid_lines.csv\")\n",
    "phosphat_exp = pd.read_csv(phosphat_experimental_2020_valid_data_file_path, sep = ',', quotechar = \"\\\"\", low_memory=False)\n",
    "\n",
    "phosphat_exp_clean_codes = phosphat_exp.code.apply(lambda x: x.split(\".\")[0])\n",
    "phosphat_exp_clean_codes_unique = phosphat_exp_clean_codes.unique()\n",
    " \n",
    "# 8023 in 2016\n",
    "len(phosphat_exp_clean_codes_unique)"
   ]
  },
  {
   "cell_type": "code",
   "execution_count": null,
   "metadata": {},
   "outputs": [],
   "source": [
    "phosphat_exp_clean_codes_unique"
   ]
  },
  {
   "cell_type": "markdown",
   "metadata": {},
   "source": [
    "Check if these are valid codes included in all_ids"
   ]
  },
  {
   "cell_type": "code",
   "execution_count": null,
   "metadata": {},
   "outputs": [],
   "source": [
    "valid_exp_ids = [x for x in phosphat_exp_clean_codes_unique if x in all_arabidopsisis_codes]\n",
    "len(valid_exp_ids)"
   ]
  },
  {
   "cell_type": "code",
   "execution_count": null,
   "metadata": {},
   "outputs": [],
   "source": [
    "result = pd.DataFrame(valid_exp_ids, columns = ['code'])\n",
    "phosphat_result_2020_file_path = path.join(base_path, 'data/preproc/phosphat_experimental_2020.csv')\n",
    "result.to_csv(phosphat_result_2020_file_path, index = False)"
   ]
  },
  {
   "cell_type": "markdown",
   "metadata": {},
   "source": [
    "### Clean tmp files:"
   ]
  },
  {
   "cell_type": "code",
   "execution_count": null,
   "metadata": {},
   "outputs": [],
   "source": [
    "phosphat_result_2020_file_path_zip = phosphat_result_2020_file_path + \".zip\"\n",
    "\n",
    "if(path.exists(phosphat_result_2020_file_path)):\n",
    "    if(path.exists(phosphat_result_2020_file_path_zip)):\n",
    "        to_delete = True\n",
    "    else:\n",
    "        output_folder_path = path.join(base_path, \"data\")\n",
    "        util.compresszip(phosphat_result_2020_file_path, output_folder_path)        \n",
    "        to_delete = True\n",
    "else:\n",
    "    to_delete = False\n",
    "    \n",
    "if (to_delete):\n",
    "    remove(phosphat_result_2020_file_path)\n",
    "    \n",
    "        "
   ]
  },
  {
   "cell_type": "markdown",
   "metadata": {},
   "source": [
    "## p3db experimental"
   ]
  },
  {
   "cell_type": "code",
   "execution_count": null,
   "metadata": {},
   "outputs": [],
   "source": [
    "file_name = 'p3db-3.5-phosphosite-report_Arabidopsis-thaliana.gz'\n",
    "file_path = path.join(base_path, 'data/raw', file_name)\n",
    "\n",
    "out_file_name = 'p3db-3.5_experimental.csv'\n",
    "out_file_path = path.join(base_path, 'data/preproc', out_file_name)\n",
    "\n",
    "data = pd.read_csv(file_path, sep = '\\t')\n",
    "data.shape"
   ]
  },
  {
   "cell_type": "code",
   "execution_count": null,
   "metadata": {},
   "outputs": [],
   "source": [
    "def parse_tair_id(raw_data):    \n",
    "    parts = raw_data.split(';')\n",
    "    tair_mask = [part.find('TAIR') != -1 for part in parts]\n",
    "    tair_ids = pd.Series(parts).loc[tair_mask]        \n",
    "    if(len(tair_ids) > 0):\n",
    "        tair_id = tair_ids.iloc[0]\n",
    "    else:\n",
    "        tair_id = None\n",
    "    result = tair_id.replace('TAIR:', '')\n",
    "    return(result)"
   ]
  },
  {
   "cell_type": "code",
   "execution_count": null,
   "metadata": {},
   "outputs": [],
   "source": [
    "p3db_tair_ids = data.Xref.apply(lambda x: parse_tair_id(x))\n",
    "p3db_tair_ids"
   ]
  },
  {
   "cell_type": "code",
   "execution_count": null,
   "metadata": {},
   "outputs": [],
   "source": [
    "p3db_tair_ids_clean = [x.split(\".\")[0] for x in p3db_tair_ids]"
   ]
  },
  {
   "cell_type": "code",
   "execution_count": null,
   "metadata": {},
   "outputs": [],
   "source": [
    "p3db_tair_ids_valid = [x for x in p3db_tair_ids_clean if x in all_arabidopsisis_codes]\n",
    "p3db_tair_ids_valid_unique = np.unique(p3db_tair_ids_valid)\n",
    "print(len(p3db_tair_ids.unique()))\n",
    "print(len(p3db_tair_ids_valid_unique))"
   ]
  },
  {
   "cell_type": "code",
   "execution_count": null,
   "metadata": {},
   "outputs": [],
   "source": [
    "result = pd.DataFrame(p3db_tair_ids_valid_unique, columns = ['code'])\n",
    "result.to_csv(out_file_path, sep='\\t', index = False)"
   ]
  },
  {
   "cell_type": "markdown",
   "metadata": {},
   "source": [
    "## vanWijk experimental"
   ]
  },
  {
   "cell_type": "code",
   "execution_count": null,
   "metadata": {},
   "outputs": [],
   "source": [
    "#vanWijk_experimental_data_file_path = path.join(base_path,  \"/papers/vanWijk/modif_SupplementalDataSet_2rfinal.csv\")\n",
    "vanWijk_experimental_data_file_path = path.join(base_path,  \"data/raw/SupplementalDataSet_2rfinal.zip\")\n",
    "\n",
    "vanWijk_experimental_data = pd.read_csv(vanWijk_experimental_data_file_path, sep = '\\t', low_memory=False, skiprows = [0])\n",
    "print(vanWijk_experimental_data.shape)\n",
    "#vanWijk_experimental_data.head()"
   ]
  },
  {
   "cell_type": "code",
   "execution_count": null,
   "metadata": {},
   "outputs": [],
   "source": [
    "vanWijk_experimental_genes = vanWijk_experimental_data.gene.unique()\n",
    "print(len(vanWijk_experimental_genes))\n",
    "len(vanWijk_experimental_genes) == 8141 #8141 count from nature paper plot"
   ]
  },
  {
   "cell_type": "markdown",
   "metadata": {},
   "source": [
    "Check all ids are valid:"
   ]
  },
  {
   "cell_type": "code",
   "execution_count": null,
   "metadata": {},
   "outputs": [],
   "source": [
    "vanWijk_experimental_genes_valid = [x for x in vanWijk_experimental_data_phospho.gene if x in all_arabidopsisis_codes]\n",
    "print(len(vanWijk_experimental_genes_valid))\n",
    "all([x in all_arabidopsisis_codes for x in vanWijk_experimental_genes_valid])"
   ]
  },
  {
   "cell_type": "code",
   "execution_count": null,
   "metadata": {},
   "outputs": [],
   "source": [
    "vanWijk_experimental_data_phospho = pd.DataFrame(vanWijk_experimental_genes_valid, columns=[\"gene\"])\n",
    "vanWijk_experimental_data_phospho.head()"
   ]
  },
  {
   "cell_type": "code",
   "execution_count": null,
   "metadata": {},
   "outputs": [],
   "source": [
    "vanWijk_experimental_data_out_file_path = path.join(base_path, 'data/preproc/vanWijk_experimental.csv')\n",
    "vanWijk_experimental_data_phospho.to_csv(vanWijk_experimental_data_out_file_path, sep = '\\t', index = False)"
   ]
  },
  {
   "cell_type": "markdown",
   "metadata": {},
   "source": [
    "## Mergner experimental"
   ]
  },
  {
   "cell_type": "code",
   "execution_count": null,
   "metadata": {},
   "outputs": [],
   "source": [
    "mergner_experimental_data_file_path = base_path + \"/data/raw/41586_2020_2094_MOESM14_ESM.zip\"\n",
    "\n",
    "mergner_experimental_data = pd.read_csv(mergner_experimental_data_file_path, sep = '\\t', low_memory=False, skiprows = [0, 1])\n",
    "print(mergner_experimental_data.shape)\n",
    "mergner_experimental_data.head()"
   ]
  },
  {
   "cell_type": "code",
   "execution_count": null,
   "metadata": {},
   "outputs": [],
   "source": [
    "mergner_experimental_data_phospho_mask = mergner_experimental_data['AGI code_phosphoprotein'].notna()\n",
    "print(mergner_experimental_data_phospho_mask.sum())\n",
    "mergner_experimental_data_phospho_mask.sum() == 8577 #8577 count from nature paper plot"
   ]
  },
  {
   "cell_type": "code",
   "execution_count": null,
   "metadata": {},
   "outputs": [],
   "source": [
    "#phospho_columns = ['AGI code_Araport11', 'AGI code_phosphoprotein']\n",
    "phospho_columns = ['AGI code_phosphoprotein']\n",
    "mergner_experimental_data_phospho = mergner_experimental_data.loc[mergner_experimental_data_phospho_mask, phospho_columns]\n",
    "print(mergner_experimental_data_phospho.shape)\n",
    "mergner_experimental_data_phospho.head()"
   ]
  },
  {
   "cell_type": "markdown",
   "metadata": {},
   "source": [
    "Check all ids are valid:"
   ]
  },
  {
   "cell_type": "code",
   "execution_count": null,
   "metadata": {},
   "outputs": [],
   "source": [
    "mergner_experimental_genes_valid = [x for x in mergner_experimental_data_phospho.iloc[:, 0] if x in all_arabidopsisis_codes]\n",
    "print(len(mergner_experimental_genes_valid))\n",
    "all([x in all_arabidopsisis_codes for x in mergner_experimental_genes_valid])"
   ]
  },
  {
   "cell_type": "code",
   "execution_count": null,
   "metadata": {},
   "outputs": [],
   "source": [
    "mergner_experimental_data_out_file_path = path.join(base_path, 'data/preproc/mergner_experimental.csv')\n",
    "mergner_experimental_data_phospho.to_csv(mergner_experimental_data_out_file_path, sep = '\\t', index = False)"
   ]
  },
  {
   "cell_type": "markdown",
   "metadata": {},
   "source": [
    "## Combine datasets"
   ]
  },
  {
   "cell_type": "markdown",
   "metadata": {},
   "source": [
    "### Sources"
   ]
  },
  {
   "cell_type": "code",
   "execution_count": null,
   "metadata": {},
   "outputs": [],
   "source": [
    "data_baes_path = path.join(base_path, 'data/preproc')\n",
    "phosphat_data_file_name = \"phosphat_experimental_2020.csv.zip\"\n",
    "p3db_data_file_name = \"p3db-3.5_experimental.zip\"\n",
    "vanWijk_data_file_name = \"vanWijk_experimental.zip\"\n",
    "mergner_data_file_name = \"mergner_experimental.zip\"\n"
   ]
  },
  {
   "cell_type": "code",
   "execution_count": null,
   "metadata": {},
   "outputs": [],
   "source": [
    "\n",
    "phosphat_file_path = path.join(data_baes_path, phosphat_data_file_name)\n",
    "phosphat_data = pd.read_csv(phosphat_file_path, sep = '\\t')\n",
    "phosphat_data.columns = ['code']\n",
    "print(phosphat_data.shape)\n",
    "\n",
    "mergner_file_path =  path.join(data_baes_path, mergner_data_file_name)\n",
    "mergner_data = pd.read_csv(mergner_file_path, sep = '\\t')\n",
    "mergner_data.columns = ['code']\n",
    "print(mergner_data.shape)\n",
    "\n",
    "vanWijk_file_path = path.join(data_baes_path, vanWijk_data_file_name)\n",
    "vanWijk_data = pd.read_csv(vanWijk_file_path, sep = '\\t')\n",
    "vanWijk_data.columns = ['code']\n",
    "print(vanWijk_data.shape)\n",
    "\n",
    "p3db_file_path = path.join(data_baes_path, p3db_data_file_name)\n",
    "p3db_data = pd.read_csv(p3db_file_path, sep = '\\t')\n",
    "p3db_data.columns = ['code']\n",
    "print(p3db_data.shape)\n",
    "\n",
    "result_file_path = path.join(base_path, 'data/preproc/experimental_ids.txt')"
   ]
  },
  {
   "cell_type": "code",
   "execution_count": null,
   "metadata": {},
   "outputs": [],
   "source": [
    "all_data_list = [phosphat_data, mergner_data, vanWijk_data, p3db_data]\n",
    "all_data_raw = pd.concat(all_data_list, axis = 0)\n",
    "all_data = all_data_raw.code.unique()\n",
    "print(all_data.shape)\n",
    "all_data"
   ]
  },
  {
   "cell_type": "code",
   "execution_count": null,
   "metadata": {},
   "outputs": [],
   "source": [
    "result = pd.DataFrame(all_data, columns = ['code'])\n",
    "result.to_csv(result_file_path, sep='\\t', index = False)"
   ]
  },
  {
   "cell_type": "markdown",
   "metadata": {},
   "source": [
    "\n",
    "phosphat_2020: 8113\n",
    "\n",
    "p3db: 4215\n",
    "\n",
    "mergner: 8577\n",
    "\n",
    "vanWijk: 8078\n",
    "\n",
    "experimental total: 13137"
   ]
  },
  {
   "cell_type": "code",
   "execution_count": null,
   "metadata": {},
   "outputs": [],
   "source": []
  },
  {
   "cell_type": "code",
   "execution_count": null,
   "metadata": {},
   "outputs": [],
   "source": []
  },
  {
   "cell_type": "code",
   "execution_count": null,
   "metadata": {},
   "outputs": [],
   "source": []
  },
  {
   "cell_type": "code",
   "execution_count": null,
   "metadata": {},
   "outputs": [],
   "source": []
  },
  {
   "cell_type": "code",
   "execution_count": null,
   "metadata": {},
   "outputs": [],
   "source": []
  },
  {
   "cell_type": "code",
   "execution_count": null,
   "metadata": {},
   "outputs": [],
   "source": []
  },
  {
   "cell_type": "code",
   "execution_count": null,
   "metadata": {},
   "outputs": [],
   "source": []
  },
  {
   "cell_type": "markdown",
   "metadata": {},
   "source": [
    "# BORRAR: "
   ]
  },
  {
   "cell_type": "code",
   "execution_count": null,
   "metadata": {},
   "outputs": [],
   "source": [
    "musite_phosphat_data_concordance.shape"
   ]
  },
  {
   "cell_type": "code",
   "execution_count": null,
   "metadata": {},
   "outputs": [],
   "source": [
    "phospho_codes_experimental.index = phospho_codes_experimental.code\n",
    "mergner_experimental_data_phospho.index = mergner_experimental_data_phospho['AGI code_Araport11']\n",
    "vanWijk_experimental_data_phospho.index = vanWijk_experimental_data_phospho.gene\n",
    "musite_phosphat_data_concordance.index = musite_phosphat_data_concordance.accession_unified"
   ]
  },
  {
   "cell_type": "code",
   "execution_count": null,
   "metadata": {},
   "outputs": [],
   "source": [
    "prediction_experimental = phospho_codes_experimental.join(musite_phosphat_data_concordance, how=\"inner\")\n",
    "prediction_experimental.shape"
   ]
  },
  {
   "cell_type": "code",
   "execution_count": null,
   "metadata": {},
   "outputs": [],
   "source": [
    "(8023 - 7149) / 8023"
   ]
  },
  {
   "cell_type": "markdown",
   "metadata": {},
   "source": [
    "el 10% que dieron fosforilados experimentalmente, no estan en la prediccion\n",
    "\n",
    "no estan porque dieron discordantes?\n",
    "\n",
    "no fueron predichos por musite?\n",
    "\n",
    "comparar que universo es esto en arabidopsis total"
   ]
  },
  {
   "cell_type": "code",
   "execution_count": null,
   "metadata": {},
   "outputs": [],
   "source": []
  },
  {
   "cell_type": "markdown",
   "metadata": {},
   "source": [
    "## Intersecciones"
   ]
  },
  {
   "cell_type": "code",
   "execution_count": null,
   "metadata": {},
   "outputs": [],
   "source": [
    "result.shape"
   ]
  },
  {
   "cell_type": "markdown",
   "metadata": {},
   "source": [
    "experimental vs p3db"
   ]
  },
  {
   "cell_type": "code",
   "execution_count": null,
   "metadata": {},
   "outputs": [],
   "source": [
    "len(p3db_data.code)"
   ]
  },
  {
   "cell_type": "code",
   "execution_count": null,
   "metadata": {},
   "outputs": [],
   "source": [
    "int_exp_p3db = [x for x in p3db_data.code.values if x in result.code.values]\n",
    "len(int_exp_p3db)"
   ]
  },
  {
   "cell_type": "code",
   "execution_count": null,
   "metadata": {},
   "outputs": [],
   "source": [
    "len(mergner_data.code.unique())"
   ]
  },
  {
   "cell_type": "code",
   "execution_count": null,
   "metadata": {},
   "outputs": [],
   "source": [
    "int_exp_mergner = [x for x in mergner_data.code.values if x in result.code.values]\n",
    "len(int_exp_mergner)"
   ]
  },
  {
   "cell_type": "code",
   "execution_count": null,
   "metadata": {},
   "outputs": [],
   "source": [
    "len(vanWijk_data_clean.code.values)"
   ]
  },
  {
   "cell_type": "code",
   "execution_count": null,
   "metadata": {},
   "outputs": [],
   "source": [
    "int_exp_vanWijk = [x for x in vanWijk_data_clean.code.values if x in result.code.values]\n",
    "len(int_exp_vanWijk)"
   ]
  },
  {
   "cell_type": "code",
   "execution_count": null,
   "metadata": {},
   "outputs": [],
   "source": []
  },
  {
   "cell_type": "code",
   "execution_count": null,
   "metadata": {},
   "outputs": [],
   "source": []
  },
  {
   "cell_type": "code",
   "execution_count": null,
   "metadata": {},
   "outputs": [],
   "source": [
    "result.code"
   ]
  },
  {
   "cell_type": "code",
   "execution_count": null,
   "metadata": {},
   "outputs": [],
   "source": []
  },
  {
   "cell_type": "code",
   "execution_count": null,
   "metadata": {},
   "outputs": [],
   "source": []
  },
  {
   "cell_type": "code",
   "execution_count": null,
   "metadata": {},
   "outputs": [],
   "source": []
  },
  {
   "cell_type": "code",
   "execution_count": null,
   "metadata": {},
   "outputs": [],
   "source": []
  }
 ],
 "metadata": {
  "kernelspec": {
   "display_name": "Python 3",
   "language": "python",
   "name": "python3"
  },
  "language_info": {
   "codemirror_mode": {
    "name": "ipython",
    "version": 3
   },
   "file_extension": ".py",
   "mimetype": "text/x-python",
   "name": "python",
   "nbconvert_exporter": "python",
   "pygments_lexer": "ipython3",
   "version": "3.7.9"
  }
 },
 "nbformat": 4,
 "nbformat_minor": 4
}
