{
 "cells": [
  {
   "cell_type": "markdown",
   "metadata": {},
   "source": [
    "All genes from Araport11"
   ]
  },
  {
   "cell_type": "markdown",
   "metadata": {},
   "source": [
    "## Initial Setup"
   ]
  },
  {
   "cell_type": "code",
   "execution_count": 1,
   "metadata": {},
   "outputs": [],
   "source": [
    "from sys import path\n",
    "base_path = \"/media/paulati/Nuevo vol/paula/ingebi/2020/agustina_mazzella/github/arabidopsis_phospho\"\n",
    "path.append(base_path)    \n",
    "\n",
    "from preparation import util\n"
   ]
  },
  {
   "cell_type": "markdown",
   "metadata": {},
   "source": [
    "## Imports"
   ]
  },
  {
   "cell_type": "code",
   "execution_count": 2,
   "metadata": {},
   "outputs": [],
   "source": [
    "from Bio import SeqIO\n",
    "from os import path, remove\n",
    "import numpy as np\n",
    "import pandas as pd"
   ]
  },
  {
   "cell_type": "markdown",
   "metadata": {},
   "source": [
    "## Proteins ids"
   ]
  },
  {
   "cell_type": "code",
   "execution_count": 3,
   "metadata": {},
   "outputs": [],
   "source": [
    "\n",
    "data_path_gz = path.join(base_path, \"data/raw/Araport11_genes.201606.pep.fasta.gz\")\n",
    "\n",
    "data_path = path.join(base_path, \"data/raw/Araport11_genes.201606.pep.fasta\")\n",
    "\n",
    "if (not path.exists(data_path)):\n",
    "    util.extractgz(data_path_gz, data_path)\n",
    "\n",
    "data = SeqIO.parse(data_path, \"fasta\")\n"
   ]
  },
  {
   "cell_type": "code",
   "execution_count": 4,
   "metadata": {},
   "outputs": [
    {
     "name": "stdout",
     "output_type": "stream",
     "text": [
      "48359\n",
      "48359\n"
     ]
    }
   ],
   "source": [
    "seq_record_ids = []\n",
    "\n",
    "for seq_record in data:\n",
    "    #print(seq_record.id)\n",
    "    seq_record_ids.append(seq_record.id)\n",
    "    #print(repr(seq_record.seq))\n",
    "    #print(len(seq_record))\n",
    "    \n",
    "print(len(seq_record_ids))\n",
    "\n",
    "unique_seq_record_ids = np.unique(seq_record_ids)\n",
    "print(len(unique_seq_record_ids))"
   ]
  },
  {
   "cell_type": "code",
   "execution_count": 5,
   "metadata": {},
   "outputs": [],
   "source": [
    "out_file_path = path.join(base_path, \"data/preproc/Araport11_genes_all.txt\")\n",
    "\n",
    "file = open(out_file_path, 'w')\n",
    "for seq_record_id in seq_record_ids:\n",
    "    file.write(seq_record_id + '\\n')  # python will convert \\n to os.linesep\n",
    "file.close()  # you can"
   ]
  },
  {
   "cell_type": "markdown",
   "metadata": {},
   "source": [
    "Delete uncompressed file:"
   ]
  },
  {
   "cell_type": "code",
   "execution_count": 6,
   "metadata": {},
   "outputs": [],
   "source": [
    "if(path.exists(data_path)):\n",
    "    if(path.exists(data_path_gz)):\n",
    "        to_delete = True\n",
    "    else:\n",
    "        util.compressgz(data_path, data_path_gz)\n",
    "        to_delete = True\n",
    "else:\n",
    "    to_delete = False\n",
    "    \n",
    "if (to_delete):\n",
    "    remove(data_path)\n",
    "    \n",
    "        "
   ]
  },
  {
   "cell_type": "markdown",
   "metadata": {},
   "source": [
    "## Arabidopis ids"
   ]
  },
  {
   "cell_type": "code",
   "execution_count": 7,
   "metadata": {},
   "outputs": [
    {
     "data": {
      "text/html": [
       "<div>\n",
       "<style scoped>\n",
       "    .dataframe tbody tr th:only-of-type {\n",
       "        vertical-align: middle;\n",
       "    }\n",
       "\n",
       "    .dataframe tbody tr th {\n",
       "        vertical-align: top;\n",
       "    }\n",
       "\n",
       "    .dataframe thead th {\n",
       "        text-align: right;\n",
       "    }\n",
       "</style>\n",
       "<table border=\"1\" class=\"dataframe\">\n",
       "  <thead>\n",
       "    <tr style=\"text-align: right;\">\n",
       "      <th></th>\n",
       "      <th>accession_clean</th>\n",
       "    </tr>\n",
       "  </thead>\n",
       "  <tbody>\n",
       "    <tr>\n",
       "      <th>0</th>\n",
       "      <td>AT1G01010</td>\n",
       "    </tr>\n",
       "    <tr>\n",
       "      <th>1</th>\n",
       "      <td>AT1G01020</td>\n",
       "    </tr>\n",
       "    <tr>\n",
       "      <th>7</th>\n",
       "      <td>AT1G01030</td>\n",
       "    </tr>\n",
       "    <tr>\n",
       "      <th>9</th>\n",
       "      <td>AT1G01040</td>\n",
       "    </tr>\n",
       "    <tr>\n",
       "      <th>11</th>\n",
       "      <td>AT1G01050</td>\n",
       "    </tr>\n",
       "  </tbody>\n",
       "</table>\n",
       "</div>"
      ],
      "text/plain": [
       "   accession_clean\n",
       "0        AT1G01010\n",
       "1        AT1G01020\n",
       "7        AT1G01030\n",
       "9        AT1G01040\n",
       "11       AT1G01050"
      ]
     },
     "execution_count": 7,
     "metadata": {},
     "output_type": "execute_result"
    }
   ],
   "source": [
    "all_arabidopsisis_file_path = path.join(base_path, \"data/preproc/Araport11_genes_all.txt\")\n",
    "all_arabidopsisis = pd.read_csv(all_arabidopsisis_file_path, header = None)\n",
    "all_arabidopsisis = all_arabidopsisis.rename(columns = {0: \"accession\"})\n",
    "all_arabidopsisis[\"accession_clean\"] = all_arabidopsisis.accession.apply(lambda x: x.split(\".\")[0])\n",
    "all_arabidopsisis = all_arabidopsisis.drop(\"accession\", axis = 1)\n",
    "all_arabidopsisis = all_arabidopsisis.drop_duplicates()\n",
    "all_arabidopsisis.head()\n"
   ]
  },
  {
   "cell_type": "code",
   "execution_count": 8,
   "metadata": {},
   "outputs": [
    {
     "data": {
      "text/plain": [
       "(27655, 1)"
      ]
     },
     "execution_count": 8,
     "metadata": {},
     "output_type": "execute_result"
    }
   ],
   "source": [
    "all_arabidopsisis.shape"
   ]
  },
  {
   "cell_type": "code",
   "execution_count": 9,
   "metadata": {},
   "outputs": [],
   "source": [
    "arabidopsis_ids_file_path = path.join(base_path, \"data/preproc/all_ids.txt\")\n",
    "all_arabidopsisis.to_csv(arabidopsis_ids_file_path, header=False, index=False)"
   ]
  },
  {
   "cell_type": "code",
   "execution_count": null,
   "metadata": {},
   "outputs": [],
   "source": []
  }
 ],
 "metadata": {
  "kernelspec": {
   "display_name": "Python 3",
   "language": "python",
   "name": "python3"
  },
  "language_info": {
   "codemirror_mode": {
    "name": "ipython",
    "version": 3
   },
   "file_extension": ".py",
   "mimetype": "text/x-python",
   "name": "python",
   "nbconvert_exporter": "python",
   "pygments_lexer": "ipython3",
   "version": "3.7.9"
  }
 },
 "nbformat": 4,
 "nbformat_minor": 4
}
