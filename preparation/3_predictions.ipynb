{
 "cells": [
  {
   "cell_type": "markdown",
   "metadata": {},
   "source": [
    "## Initial Setup"
   ]
  },
  {
   "cell_type": "code",
   "execution_count": null,
   "metadata": {},
   "outputs": [],
   "source": [
    "from sys import path\n",
    "base_path = \"/media/paulati/Nuevo vol/paula/ingebi/2020/agustina_mazzella/github/arabidopsis_phospho\"\n",
    "path.append(base_path)    \n",
    "\n",
    "from preparation import util"
   ]
  },
  {
   "cell_type": "markdown",
   "metadata": {},
   "source": [
    "## Imports"
   ]
  },
  {
   "cell_type": "code",
   "execution_count": null,
   "metadata": {},
   "outputs": [],
   "source": [
    "from os import path, remove\n",
    "import pandas as pd\n",
    "import numpy as np\n",
    "import re"
   ]
  },
  {
   "cell_type": "markdown",
   "metadata": {},
   "source": [
    "## Arabidopsis all ids"
   ]
  },
  {
   "cell_type": "code",
   "execution_count": null,
   "metadata": {},
   "outputs": [],
   "source": [
    "all_arabidopsisis_file_path = path.join(base_path, \"data/preproc/all_ids.zip\")\n",
    "all_arabidopsisis = pd.read_csv(all_arabidopsisis_file_path, header = None)\n",
    "print(all_arabidopsisis.shape)\n",
    "all_arabidopsisis_codes = all_arabidopsisis.iloc[:, 0].unique()\n",
    "len(all_arabidopsisis_codes)"
   ]
  },
  {
   "cell_type": "markdown",
   "metadata": {},
   "source": [
    "## Phosphat"
   ]
  },
  {
   "cell_type": "code",
   "execution_count": null,
   "metadata": {},
   "outputs": [],
   "source": [
    "phosphat_2020_file_path = path.join(base_path, \"data/raw/HiconfPred_psite_20200624.zip\")\n",
    "data_phosphat = pd.read_csv(phosphat_2020_file_path, sep=\",\")\n",
    "data_phosphat.head()                             "
   ]
  },
  {
   "cell_type": "code",
   "execution_count": null,
   "metadata": {},
   "outputs": [],
   "source": [
    "data_phosphat[\"code_unified\"] = data_phosphat.code.apply(lambda x: x.split(\".\")[0])\n",
    "data_phosphat.head()"
   ]
  },
  {
   "cell_type": "code",
   "execution_count": null,
   "metadata": {},
   "outputs": [],
   "source": [
    "all_phosphat_ids = data_phosphat.code_unified.unique()\n",
    "len(all_phosphat_ids)"
   ]
  },
  {
   "cell_type": "code",
   "execution_count": null,
   "metadata": {},
   "outputs": [],
   "source": [
    "valid_phosphat_ids = [x for x in all_phosphat_ids if x in all_arabidopsisis_codes]\n",
    "len(valid_phosphat_ids)"
   ]
  },
  {
   "cell_type": "code",
   "execution_count": null,
   "metadata": {},
   "outputs": [],
   "source": [
    "phosphat_pred = pd.DataFrame(valid_phosphat_ids, columns=[\"code\"])\n",
    "phosphat_pred_file_path = path.join(base_path, \"data/preproc/phosphat_prediction_2020.csv\")\n",
    "#phosphat_pred.to_csv(phosphat_pred_file_path, index = False, header = True)"
   ]
  },
  {
   "cell_type": "markdown",
   "metadata": {},
   "source": [
    "## Musite Deep"
   ]
  },
  {
   "cell_type": "markdown",
   "metadata": {},
   "source": [
    "### Input Preparation"
   ]
  },
  {
   "cell_type": "code",
   "execution_count": null,
   "metadata": {},
   "outputs": [],
   "source": [
    "fasta_proteins_file_path = path.join(base_path, \"data/raw/Araport11_genes.201606.pep.fasta\")\n",
    "print(fasta_proteins_file_path)\n",
    "fasta_proteins_file_path_gz = fasta_proteins_file_path + \".gz\"\n",
    "print(fasta_proteins_file_path_gz)\n",
    "\n",
    "if not path.isfile(fasta_proteins_file_path):\n",
    "    util.extractgz(fasta_proteins_file_path_gz, fasta_proteins_file_path)"
   ]
  },
  {
   "cell_type": "code",
   "execution_count": null,
   "metadata": {},
   "outputs": [],
   "source": [
    "lines_per_file = 7000\n",
    "f_out_base_file_path = path.join(base_path,  \"data/preproc/musitedeep/file{}_Araport11_genes.201606.pep.fasta\")\n",
    "f_out_base_file_path"
   ]
  },
  {
   "cell_type": "markdown",
   "metadata": {},
   "source": [
    "Split fasta file in chunks of size lines_per_file to be processed by https://www.musite.net/"
   ]
  },
  {
   "cell_type": "code",
   "execution_count": null,
   "metadata": {},
   "outputs": [],
   "source": [
    "f  = open(fasta_proteins_file_path, 'r') \n",
    "\n",
    "current_line = ''\n",
    "file_index = 1\n",
    "output_lines = []\n",
    "\n",
    "for line in f:\n",
    "    \n",
    "    if len(output_lines) < lines_per_file:            \n",
    "        if line[0] == '>':\n",
    "            if len(current_line) > 0:                \n",
    "                output_lines.append(current_line)                \n",
    "            current_line = line\n",
    "        else:\n",
    "            line_clean = line.replace('\\n', '')\n",
    "            current_line += line                        \n",
    "    else:\n",
    "        print(len(output_lines))\n",
    "        # write data to file\n",
    "        out_file_path = f_out_base_file_path.format(file_index)\n",
    "        print(out_file_path)\n",
    "        f_out  = open(out_file_path, 'w') \n",
    "        f_out.writelines(output_lines)\n",
    "        f_out.close()\n",
    "        file_index += 1\n",
    "        output_lines = []\n",
    "        \n",
    "#save las part of sequences\n",
    "print(len(output_lines))\n",
    "# write data to file\n",
    "out_file_path = f_out_base_file_path.format(file_index)\n",
    "print(out_file_path)\n",
    "f_out  = open(out_file_path, 'w') \n",
    "f_out.writelines(output_lines)\n",
    "f_out.close()\n",
    "\n",
    "# close fasta input file\n",
    "f.close()\n",
    "remove(fasta_proteins_file_path)"
   ]
  },
  {
   "cell_type": "markdown",
   "metadata": {},
   "source": [
    "### Results analysis"
   ]
  },
  {
   "cell_type": "markdown",
   "metadata": {},
   "source": [
    "Combine all results in a single file `musiteDeep_prediction_all_file_path`"
   ]
  },
  {
   "cell_type": "code",
   "execution_count": null,
   "metadata": {},
   "outputs": [],
   "source": [
    "musiteDeep_prediction_files_count = 7\n",
    "musite_results_base_path = path.join(base_path, 'data/results/musitedeep')\n",
    "musiteDeep_prediction_file_path = path.join(musite_results_base_path, 'file{}_Prediction_results.txt')\n",
    "musiteDeep_prediction_all_file_path = path.join(musite_results_base_path, \"Prediction_results_all.txt\")\n",
    "musiteDeep_prediction_all_scores_file_path = path.join(musite_results_base_path, \"Prediction_results_all_scores.txt\")\n",
    "musiteDeep_prediction_score_by_protein_file_path = path.join(musite_results_base_path, \"Prediction_results_score_by_protein.txt\")\n",
    "\n",
    "\n",
    "# TODO\n",
    "# setar variables para lectura que sean .zip en lugar de txt"
   ]
  },
  {
   "cell_type": "code",
   "execution_count": null,
   "metadata": {},
   "outputs": [],
   "source": [
    "class ScoreItem:\n",
    "    def __init__(self, protein_id, prediction_type, prediction_score):        \n",
    "        switcher = {            \n",
    "            'Phosphothreonine': [protein_id, prediction_score, None, None],\n",
    "            'Phosphoserine': [protein_id, None, prediction_score, None],\n",
    "            'Phosphotyrosine': [protein_id, None, None, prediction_score]                \n",
    "            }\n",
    "        self.result_row = switcher[prediction_type]\n",
    "            \n",
    "    def get_row(self):\n",
    "        return self.result_row"
   ]
  },
  {
   "cell_type": "code",
   "execution_count": null,
   "metadata": {},
   "outputs": [],
   "source": [
    "score_rows = []\n",
    "\n",
    "protein_ids = []\n",
    "\n",
    "to_discard = []\n",
    "\n",
    "row_index = 0\n",
    "\n",
    "for i in range(1, musiteDeep_prediction_files_count + 1):\n",
    "\n",
    "    musiteDeep_prediction_file_path_n = musiteDeep_prediction_file_path.format(i)        \n",
    "    \n",
    "    f  = open(musiteDeep_prediction_file_path_n, 'r') \n",
    "    \n",
    "    for line in  f:\n",
    "        if line[0] == '>' or line[0:2] == 'ID':    \n",
    "            # do nothing\n",
    "            #print(line)\n",
    "            to_discard.append(line)\n",
    "            j = 1\n",
    "        else:\n",
    "            parts = line.split('\\t')\n",
    "            # print(parts)\n",
    "            if len(parts) > 0:\n",
    "                                \n",
    "                protein_id = parts[0]\n",
    "                \n",
    "                protein_ids.append(protein_id)\n",
    "                \n",
    "                # column PTMscores\n",
    "                prediction = parts[len(parts) - 2]\n",
    "                \n",
    "                prediction_parts = prediction.split(':')\n",
    "                \n",
    "                if len(prediction_parts) > 1:\n",
    "                    \n",
    "                    prediction_score = prediction_parts[1]\n",
    "                    prediction_type =  prediction_parts[0]\n",
    "                    score_item = ScoreItem(protein_id, prediction_type, prediction_score)                                                        \n",
    "                    score_rows.append(score_item.get_row())\n",
    "                    \n",
    "                else:\n",
    "                    print(prediction_parts)\n",
    "            else:\n",
    "                print(parts)\n",
    "    \n",
    "    f.close()\n",
    "    "
   ]
  },
  {
   "cell_type": "code",
   "execution_count": null,
   "metadata": {},
   "outputs": [],
   "source": [
    "scores_df = pd.DataFrame(score_rows, columns = ['protein_id', 'Phosphothreonine', 'Phosphoserine', 'Phosphotyrosine'])"
   ]
  },
  {
   "cell_type": "code",
   "execution_count": null,
   "metadata": {},
   "outputs": [],
   "source": [
    "scores_df.shape"
   ]
  },
  {
   "cell_type": "code",
   "execution_count": null,
   "metadata": {},
   "outputs": [],
   "source": [
    "# scores_df.to_csv(musiteDeep_prediction_all_file_path, sep='\\t', index = None)"
   ]
  },
  {
   "cell_type": "markdown",
   "metadata": {},
   "source": [
    "Analyze `to_discard` data.\n",
    "\n",
    "How many ids are in `to_discard` data?"
   ]
  },
  {
   "cell_type": "code",
   "execution_count": null,
   "metadata": {},
   "outputs": [],
   "source": [
    "to_discard_ids = []\n",
    "\n",
    "for line in to_discard:    \n",
    "    if line[0] == '>':        \n",
    "        parts = line.split('|')\n",
    "        if len(parts) > 0:\n",
    "            tmp = parts[0]\n",
    "            id = tmp.strip()[1:len(tmp)]\n",
    "            to_discard_ids.append(id)            \n",
    "        \n",
    "to_discard_ids_unique = np.unique(to_discard_ids)\n",
    "\n",
    "print(len(to_discard))\n",
    "print(len(to_discard_ids_unique))"
   ]
  },
  {
   "cell_type": "markdown",
   "metadata": {},
   "source": [
    "How many of theses have not any prediction in `scores_df`\n",
    "\n",
    "(This cell takes too much time, run only when required)"
   ]
  },
  {
   "cell_type": "code",
   "execution_count": null,
   "metadata": {},
   "outputs": [],
   "source": [
    "#for x in to_discard_ids_unique:\n",
    "#    if x not in scores_df.protein_id.values:\n",
    "#        print(x)"
   ]
  },
  {
   "cell_type": "markdown",
   "metadata": {},
   "source": [
    "Ids that are included in results list but the have not score associated:\n",
    "\n",
    "AT1G33355.1\n",
    "\n",
    "AT1G64633.1\n",
    "\n",
    "AT2G07617.1\n",
    "\n",
    "AT2G21105.1\n",
    "\n",
    "AT2G29925.1\n",
    "\n",
    "AT5G38150.1 PLASTID MOVEMENT IMPAIRED protein (DUF827)\n",
    "\n",
    "ATMG00665.1\n",
    "\n",
    "<code>\n",
    "    \n",
    ">AT1G33355.1 | hypothetical protein | Chr1:12089639-12089662 FORWARD LENGTH=7 | 201606\n",
    "MRKVLEN\n",
    "    \n",
    ">AT1G64633.1 | hypothetical protein | Chr1:24019584-24019586 REVERSE LENGTH=1 | 201606\n",
    "M\n",
    "\n",
    ">AT2G07617.1 | hypothetical protein | Chr2:3262540-3262563 REVERSE LENGTH=7 | 201606\n",
    "MKMDGLR\n",
    "    \n",
    ">AT2G21105.1 | hypothetical protein | Chr2:9048192-9048203 FORWARD LENGTH=3 | 201606\n",
    "FKD\n",
    "    \n",
    ">AT2G29925.1 | hypothetical protein | Chr2:12755040-12755237 REVERSE LENGTH=24 | 201606\n",
    "MILVKWQQLKELKVKIRIWVRVLQ\n",
    "\n",
    "This one has an score but there is a missing pipe | so that is not parsed properly:\n",
    "    \n",
    ">AT5G38150.1 PLASTID MOVEMENT IMPAIRED protein (DUF827) | Chr5:15223113-15225192 REVERSE LENGTH=1740 | 201606\n",
    "MLNRAMENSDMKRNSSTLLDLPVVKSSLVVEAIHMSRKKLGWYNESRRDSETVKARVEAG\n",
    "LSEVKKSVEELALLIKRSNRSAGFQEKDMEVLKMEEKYAEVMRVLEVVKEEVSRVKLDVS\n",
    "SVLIERVAAEEKVEELRFKTEGGLRLLESLKKEIEVANEEHLMVALGKIEALKGYKEIER\n",
    "QREGKAIKVLDLLVERNKRIKNMLEEAERSKDIEIELFETSTDVEMLETQLKLFKKMERR\n",
    "VQGRDSSSMSRSNRSFGRGKYSLSVLKEVTEGKKEELASVKVEIFRVMTVMDALRNEIIR\n",
    "ARDETACLGKILREDDVKIEKLNSKILIEKSKLEVVSIAEERISSLAENFVGSLEKIKKS\n",
    "RNAAKKEEFLFKEEKTVTKAETQKTKLDIDKKESELNSKLDELEKVKHTEALVLEKLESL\n",
    "VEDMMESREMESEHCSTITISRFEYEYLSKHASQAEETAEKKVAAAAAWVEALKASTKSF\n",
    "LMKTETLMRESEMTKAEEEREVFRMERSLSTKRLVEGEIQKIKRNSEAEGYISPKPVGKF\n",
    "TPVQRGKPRRYSSVGTPTFFVIKKKKKVPRLAKFFSRRS  \n",
    "    \n",
    ">ATMG00665.1 | NADH dehydrogenase 5B | ChrM:190740-190761 REVERSE LENGTH=7 | 201606\n",
    "DMMIGLG\n",
    "\n",
    "    \n",
    "</code>\n",
    "\n",
    "\n"
   ]
  },
  {
   "cell_type": "markdown",
   "metadata": {},
   "source": [
    "## Scores musiteDeep by protein"
   ]
  },
  {
   "cell_type": "code",
   "execution_count": null,
   "metadata": {},
   "outputs": [],
   "source": [
    "data = pd.read_csv(musiteDeep_prediction_all_file_path, sep='\\t')\n",
    "\n",
    "scores = data.groupby(by='protein_id').max()\n",
    "\n",
    "protein_score_df = scores.reset_index()\n",
    "\n",
    "protein_score_df.fillna(-1, inplace = True)\n",
    "\n",
    "# protein_score_df.to_csv(musiteDeep_prediction_all_scores_file_path, sep = '\\t', index = None)\n"
   ]
  },
  {
   "cell_type": "code",
   "execution_count": null,
   "metadata": {},
   "outputs": [],
   "source": [
    "protein_score_df[\"max_score\"] = protein_score_df.apply(lambda x: max(x[1], x[2], x[3]), axis=1)\n",
    "protein_score_df.head()"
   ]
  },
  {
   "cell_type": "code",
   "execution_count": null,
   "metadata": {},
   "outputs": [],
   "source": [
    "#protein_score_df.to_csv(musiteDeep_prediction_score_by_protein_file_path, sep='\\t', index = None)"
   ]
  },
  {
   "cell_type": "markdown",
   "metadata": {},
   "source": [
    "## Scores musiteDeep by base id"
   ]
  },
  {
   "cell_type": "code",
   "execution_count": null,
   "metadata": {},
   "outputs": [],
   "source": [
    "score_by_protein = pd.read_csv(musiteDeep_prediction_score_by_protein_file_path, sep='\\t')\n",
    "\n",
    "print(score_by_protein.shape)\n",
    "\n",
    "score_by_protein\n"
   ]
  },
  {
   "cell_type": "code",
   "execution_count": null,
   "metadata": {},
   "outputs": [],
   "source": [
    "def get_id_base(data):\n",
    "    \n",
    "    parts = data.split('.')\n",
    "    \n",
    "    if len(parts) > 0:\n",
    "        id_base = parts[0]\n",
    "    else:\n",
    "        id_base = data\n",
    "        \n",
    "    return(id_base)"
   ]
  },
  {
   "cell_type": "code",
   "execution_count": null,
   "metadata": {},
   "outputs": [],
   "source": [
    "score_by_protein[\"protein_id_base\"] = score_by_protein.apply(lambda x: get_id_base(x['protein_id']), axis = 1)"
   ]
  },
  {
   "cell_type": "code",
   "execution_count": null,
   "metadata": {},
   "outputs": [],
   "source": [
    "print(score_by_protein.shape)\n",
    "score_by_protein"
   ]
  },
  {
   "cell_type": "markdown",
   "metadata": {},
   "source": [
    "There is not any max_score null:"
   ]
  },
  {
   "cell_type": "code",
   "execution_count": null,
   "metadata": {},
   "outputs": [],
   "source": [
    "(score_by_protein.max_score == -1).sum()"
   ]
  },
  {
   "cell_type": "code",
   "execution_count": null,
   "metadata": {},
   "outputs": [],
   "source": [
    "max_values = pd.DataFrame(score_by_protein.groupby('protein_id_base')['max_score'].max())\n",
    "max_values = max_values.rename(columns={\"max_score\": \"max_value\"})\n",
    "\n",
    "min_values = pd.DataFrame(score_by_protein.groupby('protein_id_base')['max_score'].min())\n",
    "min_values = min_values.rename(columns={\"max_score\": \"min_value\"})\n",
    "\n",
    "mean_values = pd.DataFrame(score_by_protein.groupby('protein_id_base')['max_score'].mean())\n",
    "mean_values = mean_values.rename(columns={\"max_score\": \"mean_value\"})"
   ]
  },
  {
   "cell_type": "code",
   "execution_count": null,
   "metadata": {},
   "outputs": [],
   "source": [
    "tmp1 = min_values.join(max_values, how=\"outer\")\n",
    "score_by_id_base = tmp1.join(mean_values, how=\"outer\")"
   ]
  },
  {
   "cell_type": "code",
   "execution_count": null,
   "metadata": {},
   "outputs": [],
   "source": [
    "score_by_id_base"
   ]
  },
  {
   "cell_type": "code",
   "execution_count": null,
   "metadata": {},
   "outputs": [],
   "source": []
  },
  {
   "cell_type": "code",
   "execution_count": null,
   "metadata": {},
   "outputs": [],
   "source": []
  },
  {
   "cell_type": "code",
   "execution_count": null,
   "metadata": {},
   "outputs": [],
   "source": []
  },
  {
   "cell_type": "code",
   "execution_count": null,
   "metadata": {},
   "outputs": [],
   "source": []
  },
  {
   "cell_type": "code",
   "execution_count": null,
   "metadata": {},
   "outputs": [],
   "source": [
    "cuantos de los ids de arabidopsisi tienen predicho??\n"
   ]
  },
  {
   "cell_type": "code",
   "execution_count": null,
   "metadata": {},
   "outputs": [],
   "source": [
    "musiteDeep_prediction_all_file_path"
   ]
  },
  {
   "cell_type": "code",
   "execution_count": null,
   "metadata": {},
   "outputs": [],
   "source": []
  },
  {
   "cell_type": "markdown",
   "metadata": {},
   "source": [
    "## Predictions"
   ]
  },
  {
   "cell_type": "markdown",
   "metadata": {},
   "source": [
    "The value to be analyzed is post-translational modification (PTM) score"
   ]
  }
 ],
 "metadata": {
  "kernelspec": {
   "display_name": "Python 3",
   "language": "python",
   "name": "python3"
  },
  "language_info": {
   "codemirror_mode": {
    "name": "ipython",
    "version": 3
   },
   "file_extension": ".py",
   "mimetype": "text/x-python",
   "name": "python",
   "nbconvert_exporter": "python",
   "pygments_lexer": "ipython3",
   "version": "3.7.9"
  }
 },
 "nbformat": 4,
 "nbformat_minor": 4
}
