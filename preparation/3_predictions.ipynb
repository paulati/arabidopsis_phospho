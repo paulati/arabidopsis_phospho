{
 "cells": [
  {
   "cell_type": "markdown",
   "metadata": {},
   "source": [
    "## Initial Setup"
   ]
  },
  {
   "cell_type": "code",
   "execution_count": null,
   "metadata": {},
   "outputs": [],
   "source": [
    "from sys import path\n",
    "base_path = \"/media/paulati/Nuevo vol/paula/ingebi/2020/agustina_mazzella/github/arabidopsis_phospho\"\n",
    "path.append(base_path)    \n",
    "\n",
    "from preparation import util"
   ]
  },
  {
   "cell_type": "markdown",
   "metadata": {},
   "source": [
    "## Imports"
   ]
  },
  {
   "cell_type": "code",
   "execution_count": null,
   "metadata": {},
   "outputs": [],
   "source": [
    "from os import path, remove\n",
    "import pandas as pd\n",
    "import numpy as np\n",
    "import re\n",
    "from sklearn.metrics import confusion_matrix, recall_score, precision_score\n",
    "import seaborn as sns\n",
    "import matplotlib.pyplot as plt"
   ]
  },
  {
   "cell_type": "markdown",
   "metadata": {},
   "source": [
    "## Arabidopsis all ids"
   ]
  },
  {
   "cell_type": "code",
   "execution_count": null,
   "metadata": {},
   "outputs": [],
   "source": [
    "all_arabidopsisis_file_path = path.join(base_path, \"data/preproc/all_ids.zip\")\n",
    "all_arabidopsisis = pd.read_csv(all_arabidopsisis_file_path, header = None)\n",
    "print(all_arabidopsisis.shape)\n",
    "all_arabidopsisis_codes = all_arabidopsisis.iloc[:, 0].unique()\n",
    "len(all_arabidopsisis_codes)"
   ]
  },
  {
   "cell_type": "markdown",
   "metadata": {},
   "source": [
    "## Experimental data"
   ]
  },
  {
   "cell_type": "code",
   "execution_count": null,
   "metadata": {},
   "outputs": [],
   "source": [
    "experimental_file_path = path.join(base_path, \"data/preproc/experimental_ids.zip\")\n",
    "experimental_data = pd.read_csv(experimental_file_path, sep = \"\\t\")\n",
    "experimental_data"
   ]
  },
  {
   "cell_type": "markdown",
   "metadata": {},
   "source": [
    "## Common"
   ]
  },
  {
   "cell_type": "code",
   "execution_count": null,
   "metadata": {},
   "outputs": [],
   "source": [
    "def performance(data, score_column_name, threshold, true_value_column_name):\n",
    "\n",
    "    if(threshold is None):\n",
    "        y_pred = data[score_column_name].notnull()\n",
    "    else:\n",
    "        y_pred = data[score_column_name] >= threshold    \n",
    "        \n",
    "    y_true = data[true_value_column_name].notnull()\n",
    "    \n",
    "    fp_mask = np.logical_and(y_pred, np.logical_not(y_true))\n",
    "    fp = fp_mask.sum()\n",
    "\n",
    "    y_pred_neg = np.logical_not(y_pred)\n",
    "    y_true_neg = np.logical_not(y_true)\n",
    "    tn_mask = np.logical_and(y_pred_neg, y_true_neg)\n",
    "    tn = tn_mask.sum()\n",
    "\n",
    "    fpr = fp / (fp + tn)\n",
    "    \n",
    "    tp_mask = np.logical_and(y_pred, y_true)\n",
    "    tp = tp_mask.sum()\n",
    "\n",
    "    fdr = fp / (fp + tp)\n",
    "    \n",
    "    fn_mask = np.logical_and(y_pred_neg, y_true)\n",
    "    fn = fn_mask.sum()\n",
    "\n",
    "    tpr = tp/ (tp + fn)\n",
    "    \n",
    "    matrix = confusion_matrix(y_true, y_pred)\n",
    "    \n",
    "    return fpr, tpr, matrix, fdr"
   ]
  },
  {
   "cell_type": "markdown",
   "metadata": {},
   "source": [
    "## Phosphat"
   ]
  },
  {
   "cell_type": "code",
   "execution_count": null,
   "metadata": {},
   "outputs": [],
   "source": [
    "phosphat_2020_file_path = path.join(base_path, \"data/raw/HiconfPred_psite_20200624.zip\")\n",
    "data_phosphat = pd.read_csv(phosphat_2020_file_path, sep=\",\")\n",
    "data_phosphat.head()                             "
   ]
  },
  {
   "cell_type": "code",
   "execution_count": null,
   "metadata": {},
   "outputs": [],
   "source": [
    "data_phosphat[\"code_unified\"] = data_phosphat.code.apply(lambda x: x.split(\".\")[0])\n",
    "data_phosphat.head()"
   ]
  },
  {
   "cell_type": "code",
   "execution_count": null,
   "metadata": {},
   "outputs": [],
   "source": [
    "all_phosphat_ids = data_phosphat.code_unified.unique()\n",
    "len(all_phosphat_ids)"
   ]
  },
  {
   "cell_type": "code",
   "execution_count": null,
   "metadata": {},
   "outputs": [],
   "source": [
    "valid_phosphat_ids = [x for x in all_phosphat_ids if x in all_arabidopsisis_codes]\n",
    "len(valid_phosphat_ids)"
   ]
  },
  {
   "cell_type": "code",
   "execution_count": null,
   "metadata": {},
   "outputs": [],
   "source": [
    "phosphat_pred = pd.DataFrame(valid_phosphat_ids, columns=[\"code\"])\n",
    "phosphat_pred_file_path = path.join(base_path, \"data/preproc/phosphat_prediction_2020.csv\")\n",
    "#phosphat_pred.to_csv(phosphat_pred_file_path, index = False, header = True)\n",
    "\n",
    "phosphat_pred_zip_file_path = phosphat_pred_file_path.replace(\".csv\", \".zip\")"
   ]
  },
  {
   "cell_type": "markdown",
   "metadata": {},
   "source": [
    "### Phosphat performance"
   ]
  },
  {
   "cell_type": "code",
   "execution_count": null,
   "metadata": {},
   "outputs": [],
   "source": [
    "all_arabidopsisis_codes_df = pd.DataFrame(all_arabidopsisis_codes, columns = ['code'])\n",
    "all_arabidopsisis_codes_df.index = all_arabidopsisis_codes_df.code\n",
    "all_arabidopsisis_codes_df"
   ]
  },
  {
   "cell_type": "code",
   "execution_count": null,
   "metadata": {},
   "outputs": [],
   "source": [
    "phosphat_pred = pd.read_csv(phosphat_pred_zip_file_path, sep= \"\\t\")"
   ]
  },
  {
   "cell_type": "code",
   "execution_count": null,
   "metadata": {},
   "outputs": [],
   "source": [
    "phosphat_pred.index = phosphat_pred.code\n",
    "phosphat_pred.columns = [\"code_phosphat\"]\n",
    "experimental_data.index = experimental_data.code\n",
    "experimental_data.columns = [\"code_experimental\"]\n",
    "phostphat_pred_exp = phosphat_pred.join(experimental_data, how = \"outer\")\n",
    "phostphat_pred_exp_all = all_arabidopsisis_codes_df.join(phostphat_pred_exp, how = \"left\")\n",
    "phostphat_pred_exp_all"
   ]
  },
  {
   "cell_type": "code",
   "execution_count": null,
   "metadata": {},
   "outputs": [],
   "source": [
    "fpr, tpr, matrix, fdr = performance(phostphat_pred_exp_all, \"code_phosphat\", None, \"code_experimental\")\n",
    "    \n",
    "print(fpr)\n",
    "\n",
    "print(tpr)\n",
    "\n",
    "print(matrix)\n",
    "\n",
    "print(fdr)"
   ]
  },
  {
   "cell_type": "markdown",
   "metadata": {},
   "source": [
    "## Musite Deep\n",
    "\n",
    "The value to be analyzed is **post-translational modification (PTM) score**"
   ]
  },
  {
   "cell_type": "markdown",
   "metadata": {},
   "source": [
    "### Input Preparation"
   ]
  },
  {
   "cell_type": "code",
   "execution_count": null,
   "metadata": {},
   "outputs": [],
   "source": [
    "fasta_proteins_file_path = path.join(base_path, \"data/raw/Araport11_genes.201606.pep.fasta\")\n",
    "print(fasta_proteins_file_path)\n",
    "fasta_proteins_file_path_gz = fasta_proteins_file_path + \".gz\"\n",
    "print(fasta_proteins_file_path_gz)\n",
    "\n",
    "if not path.isfile(fasta_proteins_file_path):\n",
    "    util.extractgz(fasta_proteins_file_path_gz, fasta_proteins_file_path)"
   ]
  },
  {
   "cell_type": "code",
   "execution_count": null,
   "metadata": {},
   "outputs": [],
   "source": [
    "lines_per_file = 7000\n",
    "f_out_base_file_path = path.join(base_path,  \"data/preproc/musitedeep/file{}_Araport11_genes.201606.pep.fasta\")\n",
    "f_out_base_file_path"
   ]
  },
  {
   "cell_type": "markdown",
   "metadata": {},
   "source": [
    "Split fasta file in chunks of size lines_per_file to be processed by https://www.musite.net/"
   ]
  },
  {
   "cell_type": "code",
   "execution_count": null,
   "metadata": {},
   "outputs": [],
   "source": [
    "f  = open(fasta_proteins_file_path, 'r') \n",
    "\n",
    "current_line = ''\n",
    "file_index = 1\n",
    "output_lines = []\n",
    "\n",
    "for line in f:\n",
    "    \n",
    "    if len(output_lines) < lines_per_file:            \n",
    "        if line[0] == '>':\n",
    "            if len(current_line) > 0:                \n",
    "                output_lines.append(current_line)                \n",
    "            current_line = line\n",
    "        else:\n",
    "            line_clean = line.replace('\\n', '')\n",
    "            current_line += line                        \n",
    "    else:\n",
    "        print(len(output_lines))\n",
    "        # write data to file\n",
    "        out_file_path = f_out_base_file_path.format(file_index)\n",
    "        print(out_file_path)\n",
    "        f_out  = open(out_file_path, 'w') \n",
    "        f_out.writelines(output_lines)\n",
    "        f_out.close()\n",
    "        file_index += 1\n",
    "        output_lines = []\n",
    "        \n",
    "#save las part of sequences\n",
    "print(len(output_lines))\n",
    "# write data to file\n",
    "out_file_path = f_out_base_file_path.format(file_index)\n",
    "print(out_file_path)\n",
    "f_out  = open(out_file_path, 'w') \n",
    "f_out.writelines(output_lines)\n",
    "f_out.close()\n",
    "\n",
    "# close fasta input file\n",
    "f.close()\n",
    "remove(fasta_proteins_file_path)"
   ]
  },
  {
   "cell_type": "markdown",
   "metadata": {},
   "source": [
    "### Results analysis"
   ]
  },
  {
   "cell_type": "markdown",
   "metadata": {},
   "source": [
    "Combine all results in a single file `musiteDeep_prediction_all_file_path`"
   ]
  },
  {
   "cell_type": "code",
   "execution_count": null,
   "metadata": {},
   "outputs": [],
   "source": [
    "musiteDeep_prediction_files_count = 7\n",
    "musite_results_base_path = path.join(base_path, 'data/results_preproc/musitedeep')\n",
    "musiteDeep_prediction_file_path = path.join(musite_results_base_path, 'file{}_Prediction_results.txt')\n",
    "musiteDeep_prediction_all_file_path = path.join(musite_results_base_path, \"Prediction_results_all.txt\")\n",
    "musiteDeep_prediction_all_scores_file_path = path.join(musite_results_base_path, \"Prediction_results_all_scores.txt\")\n",
    "musiteDeep_prediction_score_by_protein_file_path = path.join(musite_results_base_path, \"Prediction_results_score_by_protein.txt\")\n",
    "musiteDeep_prediction_score_by_id_base_file_path = path.join(musite_results_base_path, \"Prediction_results_score_by_id_base.txt\")\n",
    "\n",
    "musiteDeep_prediction_all_zip_file_path = musiteDeep_prediction_all_file_path.replace(\".txt\", \".zip\")\n",
    "musiteDeep_prediction_all_scores_zip_file_path = musiteDeep_prediction_all_scores_file_path.replace(\".txt\", \".zip\")\n",
    "musiteDeep_prediction_score_by_protein_zip_file_path = musiteDeep_prediction_score_by_protein_file_path.replace(\".txt\", \".zip\")\n",
    "musiteDeep_prediction_score_by_id_base_zip_file_path = musiteDeep_prediction_score_by_id_base_file_path.replace(\".txt\", \".zip\")"
   ]
  },
  {
   "cell_type": "code",
   "execution_count": null,
   "metadata": {},
   "outputs": [],
   "source": [
    "musiteDeep_prediction_files_count = 7\n",
    "musite_results_base_path = path.join(base_path, 'data/results_preproc/musitedeep')\n",
    "musiteDeep_prediction_file_path = path.join(musite_results_base_path, 'file{}_Prediction_results.txt')\n",
    "musiteDeep_prediction_all_file_path = path.join(musite_results_base_path, \"Prediction_results_all.txt\")\n",
    "musiteDeep_prediction_all_scores_file_path = path.join(musite_results_base_path, \"Prediction_results_all_scores.txt\")\n",
    "musiteDeep_prediction_score_by_protein_file_path = path.join(musite_results_base_path, \"Prediction_results_score_by_protein.txt\")\n",
    "musiteDeep_prediction_score_by_id_base_file_path = path.join(musite_results_base_path, \"Prediction_results_score_by_id_base.txt\")\n",
    "\n",
    "musiteDeep_prediction_all_zip_file_path = musiteDeep_prediction_all_file_path.replace(\".txt\", \".zip\")\n",
    "musiteDeep_prediction_all_scores_zip_file_path = musiteDeep_prediction_all_scores_file_path.replace(\".txt\", \".zip\")\n",
    "musiteDeep_prediction_score_by_protein_zip_file_path = musiteDeep_prediction_score_by_protein_file_path.replace(\".txt\", \".zip\")\n",
    "musiteDeep_prediction_score_by_id_base_zip_file_path = musiteDeep_prediction_score_by_id_base_file_path.replace(\".txt\", \".zip\")"
   ]
  },
  {
   "cell_type": "code",
   "execution_count": null,
   "metadata": {},
   "outputs": [],
   "source": [
    "class ScoreItem:\n",
    "    def __init__(self, protein_id, prediction_type, prediction_score):        \n",
    "        switcher = {            \n",
    "            'Phosphothreonine': [protein_id, prediction_score, None, None],\n",
    "            'Phosphoserine': [protein_id, None, prediction_score, None],\n",
    "            'Phosphotyrosine': [protein_id, None, None, prediction_score]                \n",
    "            }\n",
    "        self.result_row = switcher[prediction_type]\n",
    "            \n",
    "    def get_row(self):\n",
    "        return self.result_row"
   ]
  },
  {
   "cell_type": "code",
   "execution_count": null,
   "metadata": {},
   "outputs": [],
   "source": [
    "score_rows = []\n",
    "\n",
    "protein_ids = []\n",
    "\n",
    "to_discard = []\n",
    "\n",
    "row_index = 0\n",
    "\n",
    "for i in range(1, musiteDeep_prediction_files_count + 1):\n",
    "\n",
    "    musiteDeep_prediction_file_path_n = musiteDeep_prediction_file_path.format(i)                \n",
    "        \n",
    "    if(path.isfile(musiteDeep_prediction_file_path_n)):\n",
    "    \n",
    "        print(musiteDeep_prediction_file_path_n)\n",
    "    \n",
    "        f  = open(musiteDeep_prediction_file_path_n, 'r') \n",
    "\n",
    "        for line in  f:          \n",
    "            \n",
    "            if line[0] == '>' or line[0:2] == 'ID':    \n",
    "                # do nothing\n",
    "                #print(line)\n",
    "                to_discard.append(line)\n",
    "                j = 1\n",
    "            else:\n",
    "                parts = line.split('\\t')\n",
    "                # print(parts)\n",
    "                if len(parts) > 0:\n",
    "\n",
    "                    protein_id = parts[0]\n",
    "\n",
    "                    protein_ids.append(protein_id)\n",
    "\n",
    "                    # column PTMscores\n",
    "                    prediction = parts[len(parts) - 2]\n",
    "\n",
    "                    prediction_parts = prediction.split(':')\n",
    "\n",
    "                    if len(prediction_parts) > 1:\n",
    "\n",
    "                        prediction_score = prediction_parts[1]\n",
    "                        prediction_type =  prediction_parts[0]\n",
    "                        score_item = ScoreItem(protein_id, prediction_type, prediction_score)                                                        \n",
    "                        score_rows.append(score_item.get_row())\n",
    "\n",
    "                    else:\n",
    "                        print(prediction_parts)\n",
    "                else:\n",
    "                    print(parts)\n",
    "\n",
    "        f.close()\n",
    "    "
   ]
  },
  {
   "cell_type": "code",
   "execution_count": null,
   "metadata": {},
   "outputs": [],
   "source": [
    "scores_df = pd.DataFrame(score_rows, columns = ['protein_id', 'Phosphothreonine', 'Phosphoserine', 'Phosphotyrosine'])"
   ]
  },
  {
   "cell_type": "code",
   "execution_count": null,
   "metadata": {},
   "outputs": [],
   "source": [
    "scores_df.shape"
   ]
  },
  {
   "cell_type": "code",
   "execution_count": null,
   "metadata": {},
   "outputs": [],
   "source": [
    "#scores_df.to_csv(musiteDeep_prediction_all_file_path, sep='\\t', index = None)"
   ]
  },
  {
   "cell_type": "markdown",
   "metadata": {},
   "source": [
    "Analyze `to_discard` data.\n",
    "\n",
    "How many ids are in `to_discard` data?"
   ]
  },
  {
   "cell_type": "code",
   "execution_count": null,
   "metadata": {},
   "outputs": [],
   "source": [
    "to_discard_ids = []\n",
    "\n",
    "for line in to_discard:    \n",
    "    if line[0] == '>':        \n",
    "        parts = line.split('|')\n",
    "        if len(parts) > 0:\n",
    "            tmp = parts[0]\n",
    "            id = tmp.strip()[1:len(tmp)]\n",
    "            to_discard_ids.append(id)            \n",
    "        \n",
    "to_discard_ids_unique = np.unique(to_discard_ids)\n",
    "\n",
    "print(len(to_discard))\n",
    "print(len(to_discard_ids_unique))"
   ]
  },
  {
   "cell_type": "markdown",
   "metadata": {},
   "source": [
    "How many of theses have not any prediction in `scores_df`\n",
    "\n",
    "(This cell takes too much time, run only when required)"
   ]
  },
  {
   "cell_type": "code",
   "execution_count": null,
   "metadata": {},
   "outputs": [],
   "source": [
    "#for x in to_discard_ids_unique:\n",
    "#    if x not in scores_df.protein_id.values:\n",
    "#        print(x)"
   ]
  },
  {
   "cell_type": "markdown",
   "metadata": {},
   "source": [
    "Ids that are included in results list but the have not score associated:\n",
    "\n",
    "AT1G33355.1\n",
    "\n",
    "AT1G64633.1\n",
    "\n",
    "AT2G07617.1\n",
    "\n",
    "AT2G21105.1\n",
    "\n",
    "AT2G29925.1\n",
    "\n",
    "AT5G38150.1 PLASTID MOVEMENT IMPAIRED protein (DUF827)\n",
    "\n",
    "ATMG00665.1\n",
    "\n",
    "<code>\n",
    "    \n",
    ">AT1G33355.1 | hypothetical protein | Chr1:12089639-12089662 FORWARD LENGTH=7 | 201606\n",
    "MRKVLEN\n",
    "    \n",
    ">AT1G64633.1 | hypothetical protein | Chr1:24019584-24019586 REVERSE LENGTH=1 | 201606\n",
    "M\n",
    "\n",
    ">AT2G07617.1 | hypothetical protein | Chr2:3262540-3262563 REVERSE LENGTH=7 | 201606\n",
    "MKMDGLR\n",
    "    \n",
    ">AT2G21105.1 | hypothetical protein | Chr2:9048192-9048203 FORWARD LENGTH=3 | 201606\n",
    "FKD\n",
    "    \n",
    ">AT2G29925.1 | hypothetical protein | Chr2:12755040-12755237 REVERSE LENGTH=24 | 201606\n",
    "MILVKWQQLKELKVKIRIWVRVLQ\n",
    "\n",
    "This one has an score but there is a missing pipe | so that is not parsed properly:\n",
    "    \n",
    ">AT5G38150.1 PLASTID MOVEMENT IMPAIRED protein (DUF827) | Chr5:15223113-15225192 REVERSE LENGTH=1740 | 201606\n",
    "MLNRAMENSDMKRNSSTLLDLPVVKSSLVVEAIHMSRKKLGWYNESRRDSETVKARVEAG\n",
    "LSEVKKSVEELALLIKRSNRSAGFQEKDMEVLKMEEKYAEVMRVLEVVKEEVSRVKLDVS\n",
    "SVLIERVAAEEKVEELRFKTEGGLRLLESLKKEIEVANEEHLMVALGKIEALKGYKEIER\n",
    "QREGKAIKVLDLLVERNKRIKNMLEEAERSKDIEIELFETSTDVEMLETQLKLFKKMERR\n",
    "VQGRDSSSMSRSNRSFGRGKYSLSVLKEVTEGKKEELASVKVEIFRVMTVMDALRNEIIR\n",
    "ARDETACLGKILREDDVKIEKLNSKILIEKSKLEVVSIAEERISSLAENFVGSLEKIKKS\n",
    "RNAAKKEEFLFKEEKTVTKAETQKTKLDIDKKESELNSKLDELEKVKHTEALVLEKLESL\n",
    "VEDMMESREMESEHCSTITISRFEYEYLSKHASQAEETAEKKVAAAAAWVEALKASTKSF\n",
    "LMKTETLMRESEMTKAEEEREVFRMERSLSTKRLVEGEIQKIKRNSEAEGYISPKPVGKF\n",
    "TPVQRGKPRRYSSVGTPTFFVIKKKKKVPRLAKFFSRRS  \n",
    "    \n",
    ">ATMG00665.1 | NADH dehydrogenase 5B | ChrM:190740-190761 REVERSE LENGTH=7 | 201606\n",
    "DMMIGLG\n",
    "\n",
    "    \n",
    "</code>\n",
    "\n",
    "\n"
   ]
  },
  {
   "cell_type": "markdown",
   "metadata": {},
   "source": [
    "## Scores musiteDeep by protein"
   ]
  },
  {
   "cell_type": "code",
   "execution_count": null,
   "metadata": {},
   "outputs": [],
   "source": [
    "data = pd.read_csv(musiteDeep_prediction_all_zip_file_path, sep='\\t')\n",
    "\n",
    "scores = data.groupby(by='protein_id').max()\n",
    "\n",
    "protein_score_df = scores.reset_index()\n",
    "\n",
    "protein_score_df.fillna(-1, inplace = True)\n",
    "\n",
    "#protein_score_df.to_csv(musiteDeep_prediction_all_scores_file_path, sep = '\\t', index = None)\n"
   ]
  },
  {
   "cell_type": "code",
   "execution_count": null,
   "metadata": {},
   "outputs": [],
   "source": [
    "protein_score_df[\"max_score\"] = protein_score_df.apply(lambda x: max(x[1], x[2], x[3]), axis=1)\n",
    "protein_score_df.head()"
   ]
  },
  {
   "cell_type": "code",
   "execution_count": null,
   "metadata": {},
   "outputs": [],
   "source": [
    "#protein_score_df.to_csv(musiteDeep_prediction_score_by_protein_file_path, sep='\\t', index = None)"
   ]
  },
  {
   "cell_type": "markdown",
   "metadata": {},
   "source": [
    "## Scores musiteDeep by base id"
   ]
  },
  {
   "cell_type": "code",
   "execution_count": null,
   "metadata": {},
   "outputs": [],
   "source": [
    "score_by_protein = pd.read_csv(musiteDeep_prediction_score_by_protein_zip_file_path, sep='\\t')\n",
    "\n",
    "print(score_by_protein.shape)\n",
    "\n",
    "score_by_protein\n"
   ]
  },
  {
   "cell_type": "code",
   "execution_count": null,
   "metadata": {},
   "outputs": [],
   "source": [
    "def get_id_base(data):\n",
    "    \n",
    "    parts = data.split('.')\n",
    "    \n",
    "    if len(parts) > 0:\n",
    "        id_base = parts[0]\n",
    "    else:\n",
    "        id_base = data\n",
    "        \n",
    "    return(id_base)"
   ]
  },
  {
   "cell_type": "code",
   "execution_count": null,
   "metadata": {},
   "outputs": [],
   "source": [
    "score_by_protein[\"protein_id_base\"] = score_by_protein.apply(lambda x: get_id_base(x['protein_id']), axis = 1)"
   ]
  },
  {
   "cell_type": "code",
   "execution_count": null,
   "metadata": {},
   "outputs": [],
   "source": [
    "print(score_by_protein.shape)\n",
    "score_by_protein"
   ]
  },
  {
   "cell_type": "markdown",
   "metadata": {},
   "source": [
    "There is not any max_score null:"
   ]
  },
  {
   "cell_type": "code",
   "execution_count": null,
   "metadata": {},
   "outputs": [],
   "source": [
    "(score_by_protein.max_score == -1).sum()"
   ]
  },
  {
   "cell_type": "code",
   "execution_count": null,
   "metadata": {},
   "outputs": [],
   "source": [
    "max_values = pd.DataFrame(score_by_protein.groupby('protein_id_base')['max_score'].max())\n",
    "max_values = max_values.rename(columns={\"max_score\": \"max_value\"})\n",
    "\n",
    "min_values = pd.DataFrame(score_by_protein.groupby('protein_id_base')['max_score'].min())\n",
    "min_values = min_values.rename(columns={\"max_score\": \"min_value\"})\n",
    "\n",
    "mean_values = pd.DataFrame(score_by_protein.groupby('protein_id_base')['max_score'].mean())\n",
    "mean_values = mean_values.rename(columns={\"max_score\": \"mean_value\"})"
   ]
  },
  {
   "cell_type": "code",
   "execution_count": null,
   "metadata": {},
   "outputs": [],
   "source": [
    "tmp1 = min_values.join(max_values, how=\"outer\")\n",
    "score_by_id_base = tmp1.join(mean_values, how=\"outer\")"
   ]
  },
  {
   "cell_type": "code",
   "execution_count": null,
   "metadata": {},
   "outputs": [],
   "source": [
    "score_by_id_base.reset_index(inplace = True)\n",
    "score_by_id_base.columns = ['protein_id_base','min_score','max_score', 'mean_score']\n",
    "score_by_id_base"
   ]
  },
  {
   "cell_type": "markdown",
   "metadata": {},
   "source": [
    "Checking all ids are valid"
   ]
  },
  {
   "cell_type": "code",
   "execution_count": null,
   "metadata": {},
   "outputs": [],
   "source": [
    "all([x in all_arabidopsisis_codes for x in score_by_id_base.protein_id_base])"
   ]
  },
  {
   "cell_type": "code",
   "execution_count": null,
   "metadata": {},
   "outputs": [],
   "source": [
    "#score_by_id_base.to_csv(musiteDeep_prediction_score_by_id_base_file_path, sep= \"\\t\", index = False, header = True)"
   ]
  },
  {
   "cell_type": "markdown",
   "metadata": {},
   "source": [
    "## Join MusiteDeep scores by base id - Experimental data"
   ]
  },
  {
   "cell_type": "code",
   "execution_count": null,
   "metadata": {},
   "outputs": [],
   "source": [
    "musite_scores_file_path = musiteDeep_prediction_score_by_id_base_file_path.replace(\".txt\", \".zip\")\n",
    "musite_scores_data = pd.read_csv(musite_scores_file_path, sep = \"\\t\")\n",
    "musite_scores_data"
   ]
  },
  {
   "cell_type": "code",
   "execution_count": null,
   "metadata": {},
   "outputs": [],
   "source": [
    "musite_scores_data.index = musite_scores_data.protein_id_base\n",
    "#experimental_data.index = experimental_data.code\n",
    "musite_experimental_data = musite_scores_data.join(experimental_data, how = \"outer\")\n",
    "musite_experimental_data"
   ]
  },
  {
   "cell_type": "code",
   "execution_count": null,
   "metadata": {},
   "outputs": [],
   "source": [
    "musite_experimental_data[\"label\"] = [1 if x is not np.NaN else 0 for x in musite_experimental_data.code_experimental.values]\n",
    "musite_experimental_data[\"color\"] = [\"orange\" if x == 1 else \"blue\" for x in musite_experimental_data.label.values]"
   ]
  },
  {
   "cell_type": "code",
   "execution_count": null,
   "metadata": {},
   "outputs": [],
   "source": [
    "musite_experimental_data"
   ]
  },
  {
   "cell_type": "code",
   "execution_count": null,
   "metadata": {},
   "outputs": [],
   "source": [
    "score_threshold = 0.85 # from notebook roc.ipynb"
   ]
  },
  {
   "cell_type": "code",
   "execution_count": null,
   "metadata": {},
   "outputs": [],
   "source": [
    "musite_experimental_data['prediction'] = 0\n",
    "mask = musite_experimental_data.max_score >= score_threshold\n",
    "musite_experimental_data.loc[mask, 'prediction'] = 1\n",
    "columns = ['protein_id_base', 'max_score', 'prediction']\n",
    "musite_prediction = musite_experimental_data[columns]\n",
    "musite_prediction"
   ]
  },
  {
   "cell_type": "code",
   "execution_count": null,
   "metadata": {},
   "outputs": [],
   "source": [
    "musite_prediction_file_path = path.join(base_path, \"data/results_preproc/musitedeep/musiteDeep_prediction_thr.txt\")\n",
    "#musite_prediction.to_csv(musite_prediction_file_path, sep=\"\\t\", index = None, header = True)"
   ]
  },
  {
   "cell_type": "code",
   "execution_count": null,
   "metadata": {},
   "outputs": [],
   "source": [
    "len(musite_prediction.protein_id_base.unique())"
   ]
  },
  {
   "cell_type": "code",
   "execution_count": null,
   "metadata": {},
   "outputs": [],
   "source": [
    "len(all_arabidopsisis_codes)"
   ]
  },
  {
   "cell_type": "markdown",
   "metadata": {},
   "source": [
    "There are 7 (27655 - 27648) ids not scored by musiteDeep"
   ]
  },
  {
   "cell_type": "markdown",
   "metadata": {},
   "source": [
    "### MusiteDeep performance"
   ]
  },
  {
   "cell_type": "markdown",
   "metadata": {},
   "source": [
    "#### threshold = 0.5"
   ]
  },
  {
   "cell_type": "code",
   "execution_count": null,
   "metadata": {},
   "outputs": [],
   "source": [
    "fpr_05, tpr_05, matrix_05, fdr_05 = performance(musite_experimental_data, \"max_score\", 0.5, \"code_experimental\")\n",
    "print(fpr_05) \n",
    "print(tpr_05)\n",
    "print(matrix_05)\n",
    "print(fdr_05)\n"
   ]
  },
  {
   "cell_type": "markdown",
   "metadata": {},
   "source": [
    "#### threshold = 0.85"
   ]
  },
  {
   "cell_type": "code",
   "execution_count": null,
   "metadata": {},
   "outputs": [],
   "source": [
    "fpr_085, tpr_085, matrix_085, fdr_085 = performance(musite_experimental_data, \"max_score\", 0.85, \"code_experimental\")\n",
    "print(fpr_085) \n",
    "print(tpr_085)\n",
    "print(matrix_085)\n",
    "print(fdr_085)"
   ]
  },
  {
   "cell_type": "markdown",
   "metadata": {},
   "source": [
    "## PredOr: phosphat + musiteDeep"
   ]
  },
  {
   "cell_type": "code",
   "execution_count": null,
   "metadata": {},
   "outputs": [],
   "source": [
    "musite_prediction_file_path = path.join(base_path, \"data/results_preproc/musitedeep/musiteDeep_prediction_thr.zip\")\n",
    "musite_prediction = pd.read_csv(musite_prediction_file_path, sep=\"\\t\")\n",
    "musite_prediction"
   ]
  },
  {
   "cell_type": "code",
   "execution_count": null,
   "metadata": {},
   "outputs": [],
   "source": [
    "musite_prediction.prediction.sum()"
   ]
  },
  {
   "cell_type": "code",
   "execution_count": null,
   "metadata": {},
   "outputs": [],
   "source": [
    "phosphat_pred_file_path = path.join(base_path, \"data/preproc/phosphat_prediction_2020.zip\")\n",
    "phosphat_pred =  pd.read_csv(phosphat_pred_file_path, sep=\"\\t\")\n",
    "phosphat_pred.index = phosphat_pred.code\n",
    "phosphat_pred"
   ]
  },
  {
   "cell_type": "code",
   "execution_count": null,
   "metadata": {},
   "outputs": [],
   "source": [
    "musite_prediction_mask = musite_prediction.prediction == 1\n",
    "musite_pred = musite_prediction.loc[musite_prediction_mask, 'protein_id_base'].values\n",
    "predOr = np.concatenate([musite_pred, phosphat_pred.code.values])\n",
    "predOr_result = pd.DataFrame(np.unique(predOr), columns = ['code'])\n",
    "predOr_result"
   ]
  },
  {
   "cell_type": "code",
   "execution_count": null,
   "metadata": {},
   "outputs": [],
   "source": [
    "all_valid_codes = len(np.unique([x for x in predOr_result.code if x in all_arabidopsisis_codes])) == predOr_result.shape[0]\n",
    "all_valid_codes"
   ]
  },
  {
   "cell_type": "code",
   "execution_count": null,
   "metadata": {},
   "outputs": [],
   "source": [
    "predOr_file_path_out = path.join(base_path, \"data/results_preproc/predOr_phosphat_musiteDeep.csv\")\n",
    "#predOr_result.to_csv(predOr_file_path_out, index = None)"
   ]
  },
  {
   "cell_type": "markdown",
   "metadata": {},
   "source": [
    "Combining musiteDeep and Phosphat results"
   ]
  },
  {
   "cell_type": "code",
   "execution_count": null,
   "metadata": {},
   "outputs": [],
   "source": [
    "result = musite_prediction.loc[musite_prediction_mask, :]\n",
    "result.index = result.protein_id_base\n",
    "phosphat_musitedeep = result.join(phosphat_pred, lsuffix = '_musitedeep', rsuffix='_phosphat', how=\"outer\")\n",
    "phosphat_musitedeep"
   ]
  },
  {
   "cell_type": "markdown",
   "metadata": {},
   "source": [
    "How many musite predicted positive are not in phospaht predicted?"
   ]
  },
  {
   "cell_type": "code",
   "execution_count": null,
   "metadata": {},
   "outputs": [],
   "source": [
    "mask_1 = pd.notnull(phosphat_musitedeep.protein_id_base).values & pd.isnull(phosphat_musitedeep.code).values\n",
    "mask_1.sum()"
   ]
  },
  {
   "cell_type": "markdown",
   "metadata": {},
   "source": [
    "How many phosphat predicted positive are not in musite predicted?"
   ]
  },
  {
   "cell_type": "code",
   "execution_count": null,
   "metadata": {},
   "outputs": [],
   "source": [
    "mask_2 = pd.isnull(phosphat_musitedeep.protein_id_base).values & pd.notnull(phosphat_musitedeep.code).values\n",
    "mask_2.sum()"
   ]
  },
  {
   "cell_type": "markdown",
   "metadata": {},
   "source": [
    "## PredOr performance metrics"
   ]
  },
  {
   "cell_type": "code",
   "execution_count": null,
   "metadata": {},
   "outputs": [],
   "source": [
    "#predOr_file_path = path.join(base_path, \"data/results_preproc/predOr_phosphat_musiteDeep.zip\")\n",
    "predOr_file_path = path.join(base_path, \"data/results_preproc/PredRS.zip\")\n",
    "predOr_data = pd.read_csv(predOr_file_path)\n",
    "predOr_data.index = predOr_data.code\n",
    "predOr_data"
   ]
  },
  {
   "cell_type": "code",
   "execution_count": null,
   "metadata": {},
   "outputs": [],
   "source": [
    "all_arabidopsisis_codes"
   ]
  },
  {
   "cell_type": "code",
   "execution_count": null,
   "metadata": {},
   "outputs": [],
   "source": [
    "experimental_data"
   ]
  },
  {
   "cell_type": "code",
   "execution_count": null,
   "metadata": {},
   "outputs": [],
   "source": [
    "exp_predOr = pd.DataFrame(all_arabidopsisis_codes, columns = [\"arabidopsisis_codes\"])\n",
    "exp_predOr.index = exp_predOr.arabidopsisis_codes\n",
    "print(exp_predOr.shape)\n",
    "exp_predOr = exp_predOr.join(predOr_data, how = 'left', lsuffix = \"_arabidopsis\", rsuffix = \"_predOr\")\n",
    "exp_predOr = exp_predOr.join(experimental_data, how = 'left', lsuffix = \"_predOr\", rsuffix = \"_exp\")\n",
    "\n",
    "y_true_mask = [1 if x else 0 for x in pd.notnull(exp_predOr.code_experimental)]\n",
    "exp_predOr[\"y_true\"] = y_true_mask\n",
    "y_pred_mask = [1 if x else 0 for x in pd.notnull(exp_predOr.code)]\n",
    "exp_predOr[\"y_pred\"] = y_pred_mask\n",
    "exp_predOr"
   ]
  },
  {
   "cell_type": "code",
   "execution_count": null,
   "metadata": {},
   "outputs": [],
   "source": [
    "conf_matrix = confusion_matrix(exp_predOr.y_true, exp_predOr.y_pred)\n",
    "print(conf_matrix)\n",
    "\n",
    "predOR_recall = recall_score(exp_predOr.y_true, exp_predOr.y_pred)    \n",
    "print(predOR_recall)\n",
    "\n",
    "predOR_precision = precision_score(exp_predOr.y_true, exp_predOr.y_pred)    \n",
    "print(predOR_precision)"
   ]
  },
  {
   "cell_type": "code",
   "execution_count": null,
   "metadata": {},
   "outputs": [],
   "source": [
    "tn, fp, fn, tp = conf_matrix.ravel()\n",
    "\n",
    "specificity = tn / (tn + fp)\n",
    "specificity"
   ]
  },
  {
   "cell_type": "code",
   "execution_count": null,
   "metadata": {},
   "outputs": [],
   "source": [
    "# false positive rate\n",
    "\n",
    "fpr = fp / (fp + tn)\n",
    "fpr"
   ]
  },
  {
   "cell_type": "code",
   "execution_count": null,
   "metadata": {},
   "outputs": [],
   "source": [
    "fpr, tpr, matrix, fdr = performance(exp_predOr, \"code\", None, \"code_experimental\")\n",
    "print(fpr)\n",
    "print(tpr)\n",
    "print(matrix)\n",
    "print(fdr)"
   ]
  },
  {
   "cell_type": "markdown",
   "metadata": {},
   "source": [
    "## Why do we have combined a good performance predictor as phosphat with a not so good as musiteDeep\n",
    "\n",
    "**The idea is to get a prediction that predict as positive a geater number of ids that already have experimental evidence**\n",
    "\n",
    "Confusion matrix whose i-th row and j-th column entry indicates the number of samples with true label being i-th class and predicted label being j-th class.\n",
    "\n",
    "**Phosphat** confusion matrix is\n",
    "\n",
    "$\\begin{matrix}14497 & 21 \\\\ 3034 & 10103 \\end{matrix}$\n",
    "\n",
    "\n",
    "fpr 0.0014464802314368371\n",
    "\n",
    "tpr 0.7690492502093325\n",
    "\n",
    "\n",
    "**PredOr** confusion matrix is\n",
    "\n",
    "$\\begin{matrix}9386 & 5132 \\\\ 1113 & 12024 \\end{matrix}$\n",
    "\n",
    "fpr 0.3398539743766359\n",
    "\n",
    "tpr 0.9117759001294055"
   ]
  },
  {
   "cell_type": "markdown",
   "metadata": {},
   "source": [
    "## Experimental evidence and not predicted as phosphorylated\n",
    "\n",
    "There are 1113 ids predicted as negative that have experimental evidence\n",
    "\n",
    "What are they scores?\n",
    "\n",
    "How does metrics change if they are included as positives by musiteDeep?"
   ]
  },
  {
   "cell_type": "code",
   "execution_count": null,
   "metadata": {},
   "outputs": [],
   "source": [
    "ids_1113_mask = np.logical_and(exp_predOr.y_true == 1, exp_predOr.y_pred == 0)\n",
    "ids_1113 = exp_predOr.loc[ids_1113_mask, 'arabidopsisis_codes'].values\n",
    "ids_1113"
   ]
  },
  {
   "cell_type": "code",
   "execution_count": null,
   "metadata": {},
   "outputs": [],
   "source": [
    "ids_1113_mask = [x in ids_1113 for x in musite_prediction.protein_id_base]\n",
    "scores = musite_prediction.loc[ids_1113_mask, 'max_score'].values\n",
    "sns.histplot(scores)"
   ]
  },
  {
   "cell_type": "code",
   "execution_count": null,
   "metadata": {},
   "outputs": [],
   "source": [
    "min(scores)"
   ]
  },
  {
   "cell_type": "markdown",
   "metadata": {},
   "source": [
    "ids_1113 included in phosphat prediction?:"
   ]
  },
  {
   "cell_type": "code",
   "execution_count": null,
   "metadata": {},
   "outputs": [],
   "source": [
    "[x for x in ids_1113 if x in phosphat_pred.code.values]"
   ]
  },
  {
   "cell_type": "markdown",
   "metadata": {},
   "source": [
    "# How do metrics vary with differente musite threshold?"
   ]
  },
  {
   "cell_type": "code",
   "execution_count": null,
   "metadata": {},
   "outputs": [],
   "source": [
    "experimental_file_path = path.join(base_path, \"data/preproc/experimental_ids.zip\")\n",
    "experimental_data = pd.read_csv(experimental_file_path, sep = \"\\t\")\n",
    "experimental_data.index = experimental_data.code\n",
    "experimental_data"
   ]
  },
  {
   "cell_type": "code",
   "execution_count": null,
   "metadata": {},
   "outputs": [],
   "source": [
    "musite_scores_file_path = musiteDeep_prediction_score_by_id_base_file_path.replace(\".txt\", \".zip\")\n",
    "musite_scores_data = pd.read_csv(musite_scores_file_path, sep = \"\\t\")\n",
    "musite_scores_data.index = musite_scores_data.protein_id_base\n",
    "musite_scores_data = musite_scores_data[[\"protein_id_base\", \"max_score\" ]]\n",
    "musite_scores_data"
   ]
  },
  {
   "cell_type": "code",
   "execution_count": null,
   "metadata": {},
   "outputs": [],
   "source": [
    "phosphat_pred_file_path = path.join(base_path, \"data/preproc/phosphat_prediction_2020.zip\")\n",
    "phosphat_pred =  pd.read_csv(phosphat_pred_file_path, sep=\"\\t\")\n",
    "phosphat_pred.index = phosphat_pred.code\n",
    "phosphat_pred"
   ]
  },
  {
   "cell_type": "code",
   "execution_count": null,
   "metadata": {},
   "outputs": [],
   "source": [
    "all_data = pd.DataFrame(all_arabidopsisis_codes, columns = [\"arabidopsisis_codes\"])\n",
    "all_data.index = all_data.arabidopsisis_codes\n",
    "experimental_data.columns = [\"code_exp\"]\n",
    "all_data = all_data.join(experimental_data, how = \"left\")\n",
    "musite_scores_data.columns = [\"code_musite\", \"score_musite\"]\n",
    "all_data = all_data.join(musite_scores_data, how = \"left\")\n",
    "phosphat_pred.columns = [\"code_phosphat\"]\n",
    "all_data = all_data.join(phosphat_pred, how = \"left\")\n",
    "all_data"
   ]
  },
  {
   "cell_type": "code",
   "execution_count": null,
   "metadata": {},
   "outputs": [],
   "source": [
    "len(all_arabidopsisis_codes) == all_data.shape[0]"
   ]
  },
  {
   "cell_type": "code",
   "execution_count": null,
   "metadata": {},
   "outputs": [],
   "source": [
    "y_true_mask = [1 if x else 0 for x in pd.notnull(all_data.code_exp)]\n",
    "all_data[\"y_true\"] = y_true_mask\n",
    "all_data"
   ]
  },
  {
   "cell_type": "code",
   "execution_count": null,
   "metadata": {},
   "outputs": [],
   "source": []
  },
  {
   "cell_type": "code",
   "execution_count": null,
   "metadata": {},
   "outputs": [],
   "source": [
    "threshold_count = 100\n",
    "\n",
    "pred_recalls = []\n",
    "pred_precisions = []\n",
    "pred_specificities = []\n",
    "false_negatives = []\n",
    "true_negatives = []\n",
    "false_positives = []\n",
    "true_positives = []\n",
    "fprs = []\n",
    "\n",
    "min_thr = 0\n",
    "#min_thr = 50\n",
    "\n",
    "for i in range(min_thr, threshold_count):\n",
    "    threshold = i / threshold_count\n",
    "    \n",
    "    pred_mask = np.logical_or(all_data.score_musite >= threshold, pd.notnull(all_data.code_phosphat))    \n",
    "    y_pred_values = [1 if x else 0 for x in pred_mask.values]\n",
    "    all_data[\"y_pred\"] = y_pred_values\n",
    "\n",
    "    pred_recall = recall_score(all_data.y_true, all_data.y_pred)    \n",
    "    #print(predOR_recall)\n",
    "    pred_recalls.append(pred_recall)\n",
    "\n",
    "    pred_precision = precision_score(all_data.y_true, all_data.y_pred)    \n",
    "    #print(predOR_precision)\n",
    "    pred_precisions.append(pred_precision)\n",
    "\n",
    "    conf_matrix = confusion_matrix(all_data.y_true, all_data.y_pred)\n",
    "    #print(conf_matrix)\n",
    "    tn, fp, fn, tp = conf_matrix.ravel()\n",
    "    false_negatives.append(fn)\n",
    "    false_positives.append(fp)\n",
    "    true_negatives.append(tn)\n",
    "    true_positives.append(tp)\n",
    "    \n",
    "    pred_specificity = tn / (tn + fp)\n",
    "    pred_specificities.append(pred_specificity)\n",
    "\n",
    "    fpr = fp / (fp + tn)\n",
    "    fprs.append(fpr)\n",
    "    "
   ]
  },
  {
   "cell_type": "code",
   "execution_count": null,
   "metadata": {},
   "outputs": [],
   "source": [
    "# how many relevant items (positives) are selected?\n",
    "sns.scatterplot(x = range(min_thr, threshold_count), y = pred_recalls, color = \"steelblue\")\n",
    "\n",
    "# how many seleted items are relevant?\n",
    "sns.scatterplot(x = range(min_thr, threshold_count), y = pred_precisions, color = \"orange\")\n",
    "\n",
    "# tn / (tn + fp)\n",
    "sns.scatterplot(x = range(min_thr, threshold_count), y = pred_specificities, color = \"darkred\")\n",
    "\n",
    "plt.axvline(x = 85, ymin = 0, ymax = 1, color = \"darkgrey\")\n"
   ]
  },
  {
   "cell_type": "code",
   "execution_count": null,
   "metadata": {},
   "outputs": [],
   "source": [
    "max(false_negatives)"
   ]
  },
  {
   "cell_type": "code",
   "execution_count": null,
   "metadata": {},
   "outputs": [],
   "source": [
    "max(false_positives)"
   ]
  },
  {
   "cell_type": "code",
   "execution_count": null,
   "metadata": {},
   "outputs": [],
   "source": [
    "#false_positives_rel = false_positives / max(false_positives)\n",
    "sns.scatterplot(x = range(min_thr, threshold_count), y = false_positives, color = \"darkviolet\")\n",
    "\n",
    "sns.scatterplot(x = range(min_thr, threshold_count), y = true_positives, color = \"silver\")\n",
    "\n",
    "sns.scatterplot(x = range(min_thr, threshold_count), y = true_negatives, color = \"gold\")\n",
    "\n",
    "#false_negatives_rel = false_negatives / max(false_negatives)\n",
    "sns.scatterplot(x = range(min_thr, threshold_count), y = false_negatives, color = \"darkgreen\")\n",
    "\n",
    "plt.axvline(x = 85, ymin = 0, ymax = 1, color = \"darkgrey\")\n"
   ]
  },
  {
   "cell_type": "code",
   "execution_count": null,
   "metadata": {},
   "outputs": [],
   "source": [
    "sns.scatterplot(x = range(min_thr, threshold_count), y = fprs, color = \"darkred\")\n",
    "plt.axvline(x = 85, ymin = 0, ymax = 1, color = \"darkgrey\")"
   ]
  },
  {
   "cell_type": "code",
   "execution_count": null,
   "metadata": {},
   "outputs": [],
   "source": [
    "score_min_1113 = min(scores)\n",
    "print(score_min_1113)\n"
   ]
  },
  {
   "cell_type": "code",
   "execution_count": null,
   "metadata": {},
   "outputs": [],
   "source": []
  }
 ],
 "metadata": {
  "kernelspec": {
   "display_name": "Python 3",
   "language": "python",
   "name": "python3"
  },
  "language_info": {
   "codemirror_mode": {
    "name": "ipython",
    "version": 3
   },
   "file_extension": ".py",
   "mimetype": "text/x-python",
   "name": "python",
   "nbconvert_exporter": "python",
   "pygments_lexer": "ipython3",
   "version": "3.7.9"
  }
 },
 "nbformat": 4,
 "nbformat_minor": 4
}
